{
 "cells": [
  {
   "cell_type": "markdown",
   "id": "f5538513",
   "metadata": {
    "papermill": {
     "duration": 0.020801,
     "end_time": "2023-07-12T12:30:22.191209",
     "exception": false,
     "start_time": "2023-07-12T12:30:22.170408",
     "status": "completed"
    },
    "tags": []
   },
   "source": [
    "# **Predicting House Prices: Exploratory Data Analysis and Linear Regression Modeling**\n",
    "\n",
    "Welcome to this comprehensive tutorial on predicting house prices using Exploratory Data Analysis (EDA) and Linear Regression modeling in Jupyter Notebook. \n",
    "\n",
    "In this tutorial, you'll learn step-by-step how to analyze a housing dataset and build a predictive model that estimates house prices based on key features.\n",
    "\n",
    "Whether you're a beginner or an experienced data enthusiast, this tutorial will equip you with the skills to tackle real-world prediction tasks."
   ]
  },
  {
   "cell_type": "markdown",
   "id": "455f3d25",
   "metadata": {},
   "source": [
    "# What is linear Regression?\n",
    "\n",
    "Linear regression is a fundamental statistical method used to model the relationship between two variables.\n",
    "\n",
    "It helps us understand how changes in one variable can predict or explain changes in another. \n",
    "\n",
    "In the context of predicting house prices, linear regression would aim to draw a line that best fits the data points representing house areas and their corresponding prices. This line could then be used to predict prices for houses with different areas."
   ]
  },
  {
   "cell_type": "markdown",
   "id": "563aaab5",
   "metadata": {},
   "source": [
    "# **Dataset - Features(Columns) Description**\n",
    "\n",
    "- 'price': The price of the house (target variable).\n",
    "- 'area': The area or size of the house in square feet.\n",
    "- 'bedrooms': The number of bedrooms in the house.\n",
    "- 'bathrooms': The number of bathrooms in the house.\n",
    "- 'stories': The number of stories or floors in the house.\n",
    "- 'mainroad': Categorical variable indicating whether the house is located near the main road or not.\n",
    "- 'guestroom': Categorical variable indicating whether the house has a guest room or not.\n",
    "- 'basement': Categorical variable indicating whether the house has a basement or not.\n",
    "- 'hotwaterheating': Categorical variable indicating whether the house has hot water heating or not.\n",
    "- 'airconditioning': Categorical variable indicating whether the house has air conditioning or not.\n",
    "- 'parking': The number of parking spaces available with the house.\n",
    "- 'prefarea': Categorical variable indicating whether the house is in a preferred area or not.\n",
    "- 'furnishingstatus': The furnishing status of the house (e.g., unfurnished, semi-furnished, fully furnished)."
   ]
  },
  {
   "cell_type": "markdown",
   "id": "561a361c",
   "metadata": {
    "papermill": {
     "duration": 0.023076,
     "end_time": "2023-07-12T12:30:22.234662",
     "exception": false,
     "start_time": "2023-07-12T12:30:22.211586",
     "status": "completed"
    },
    "tags": []
   },
   "source": [
    "# **Importing the required libraries**"
   ]
  },
  {
   "cell_type": "code",
   "execution_count": 37,
   "id": "245647b5",
   "metadata": {
    "execution": {
     "iopub.execute_input": "2023-07-12T12:30:22.278822Z",
     "iopub.status.busy": "2023-07-12T12:30:22.278142Z",
     "iopub.status.idle": "2023-07-12T12:30:24.300734Z",
     "shell.execute_reply": "2023-07-12T12:30:24.299457Z"
    },
    "papermill": {
     "duration": 2.048076,
     "end_time": "2023-07-12T12:30:24.304247",
     "exception": false,
     "start_time": "2023-07-12T12:30:22.256171",
     "status": "completed"
    },
    "tags": []
   },
   "outputs": [],
   "source": [
    "import numpy as np \n",
    "import pandas as pd \n",
    "import matplotlib.pyplot as plt \n",
    "import seaborn as sns  \n",
    "from sklearn.model_selection import train_test_split \n",
    "from sklearn.preprocessing import MinMaxScaler \n",
    "from sklearn.linear_model import LinearRegression  \n",
    "from sklearn.metrics import r2_score "
   ]
  },
  {
   "cell_type": "markdown",
   "id": "0115ebe5",
   "metadata": {
    "papermill": {
     "duration": 0.01982,
     "end_time": "2023-07-12T12:30:24.344628",
     "exception": false,
     "start_time": "2023-07-12T12:30:24.324808",
     "status": "completed"
    },
    "tags": []
   },
   "source": [
    "# **Importing our dataset**"
   ]
  },
  {
   "cell_type": "code",
   "execution_count": 38,
   "id": "7572ba23",
   "metadata": {
    "execution": {
     "iopub.execute_input": "2023-07-12T12:30:24.387996Z",
     "iopub.status.busy": "2023-07-12T12:30:24.386942Z",
     "iopub.status.idle": "2023-07-12T12:30:24.443381Z",
     "shell.execute_reply": "2023-07-12T12:30:24.441673Z"
    },
    "papermill": {
     "duration": 0.081178,
     "end_time": "2023-07-12T12:30:24.446254",
     "exception": false,
     "start_time": "2023-07-12T12:30:24.365076",
     "status": "completed"
    },
    "tags": []
   },
   "outputs": [
    {
     "data": {
      "text/html": [
       "<div>\n",
       "<style scoped>\n",
       "    .dataframe tbody tr th:only-of-type {\n",
       "        vertical-align: middle;\n",
       "    }\n",
       "\n",
       "    .dataframe tbody tr th {\n",
       "        vertical-align: top;\n",
       "    }\n",
       "\n",
       "    .dataframe thead th {\n",
       "        text-align: right;\n",
       "    }\n",
       "</style>\n",
       "<table border=\"1\" class=\"dataframe\">\n",
       "  <thead>\n",
       "    <tr style=\"text-align: right;\">\n",
       "      <th></th>\n",
       "      <th>price</th>\n",
       "      <th>area</th>\n",
       "      <th>bedrooms</th>\n",
       "      <th>bathrooms</th>\n",
       "      <th>stories</th>\n",
       "      <th>mainroad</th>\n",
       "      <th>guestroom</th>\n",
       "      <th>basement</th>\n",
       "      <th>hotwaterheating</th>\n",
       "      <th>airconditioning</th>\n",
       "      <th>parking</th>\n",
       "      <th>prefarea</th>\n",
       "      <th>furnishingstatus</th>\n",
       "    </tr>\n",
       "  </thead>\n",
       "  <tbody>\n",
       "    <tr>\n",
       "      <th>0</th>\n",
       "      <td>13300000</td>\n",
       "      <td>7420</td>\n",
       "      <td>4</td>\n",
       "      <td>2</td>\n",
       "      <td>3</td>\n",
       "      <td>yes</td>\n",
       "      <td>no</td>\n",
       "      <td>no</td>\n",
       "      <td>no</td>\n",
       "      <td>yes</td>\n",
       "      <td>2</td>\n",
       "      <td>yes</td>\n",
       "      <td>furnished</td>\n",
       "    </tr>\n",
       "    <tr>\n",
       "      <th>1</th>\n",
       "      <td>12250000</td>\n",
       "      <td>8960</td>\n",
       "      <td>4</td>\n",
       "      <td>4</td>\n",
       "      <td>4</td>\n",
       "      <td>yes</td>\n",
       "      <td>no</td>\n",
       "      <td>no</td>\n",
       "      <td>no</td>\n",
       "      <td>yes</td>\n",
       "      <td>3</td>\n",
       "      <td>no</td>\n",
       "      <td>furnished</td>\n",
       "    </tr>\n",
       "    <tr>\n",
       "      <th>2</th>\n",
       "      <td>12250000</td>\n",
       "      <td>9960</td>\n",
       "      <td>3</td>\n",
       "      <td>2</td>\n",
       "      <td>2</td>\n",
       "      <td>yes</td>\n",
       "      <td>no</td>\n",
       "      <td>yes</td>\n",
       "      <td>no</td>\n",
       "      <td>no</td>\n",
       "      <td>2</td>\n",
       "      <td>yes</td>\n",
       "      <td>semi-furnished</td>\n",
       "    </tr>\n",
       "    <tr>\n",
       "      <th>3</th>\n",
       "      <td>12215000</td>\n",
       "      <td>7500</td>\n",
       "      <td>4</td>\n",
       "      <td>2</td>\n",
       "      <td>2</td>\n",
       "      <td>yes</td>\n",
       "      <td>no</td>\n",
       "      <td>yes</td>\n",
       "      <td>no</td>\n",
       "      <td>yes</td>\n",
       "      <td>3</td>\n",
       "      <td>yes</td>\n",
       "      <td>furnished</td>\n",
       "    </tr>\n",
       "    <tr>\n",
       "      <th>4</th>\n",
       "      <td>11410000</td>\n",
       "      <td>7420</td>\n",
       "      <td>4</td>\n",
       "      <td>1</td>\n",
       "      <td>2</td>\n",
       "      <td>yes</td>\n",
       "      <td>yes</td>\n",
       "      <td>yes</td>\n",
       "      <td>no</td>\n",
       "      <td>yes</td>\n",
       "      <td>2</td>\n",
       "      <td>no</td>\n",
       "      <td>furnished</td>\n",
       "    </tr>\n",
       "  </tbody>\n",
       "</table>\n",
       "</div>"
      ],
      "text/plain": [
       "      price  area  bedrooms  bathrooms  stories mainroad guestroom basement  \\\n",
       "0  13300000  7420         4          2        3      yes        no       no   \n",
       "1  12250000  8960         4          4        4      yes        no       no   \n",
       "2  12250000  9960         3          2        2      yes        no      yes   \n",
       "3  12215000  7500         4          2        2      yes        no      yes   \n",
       "4  11410000  7420         4          1        2      yes       yes      yes   \n",
       "\n",
       "  hotwaterheating airconditioning  parking prefarea furnishingstatus  \n",
       "0              no             yes        2      yes        furnished  \n",
       "1              no             yes        3       no        furnished  \n",
       "2              no              no        2      yes   semi-furnished  \n",
       "3              no             yes        3      yes        furnished  \n",
       "4              no             yes        2       no        furnished  "
      ]
     },
     "execution_count": 38,
     "metadata": {},
     "output_type": "execute_result"
    }
   ],
   "source": [
    "data = pd.read_csv('Housing.csv')  \n",
    "\n",
    "# Displaying the first few rows of the DataFrame 'data' \n",
    "data.head()"
   ]
  },
  {
   "cell_type": "code",
   "execution_count": 39,
   "id": "ca5177e1",
   "metadata": {
    "execution": {
     "iopub.execute_input": "2023-07-12T12:30:24.489550Z",
     "iopub.status.busy": "2023-07-12T12:30:24.489117Z",
     "iopub.status.idle": "2023-07-12T12:30:24.506218Z",
     "shell.execute_reply": "2023-07-12T12:30:24.504782Z"
    },
    "papermill": {
     "duration": 0.042166,
     "end_time": "2023-07-12T12:30:24.508910",
     "exception": false,
     "start_time": "2023-07-12T12:30:24.466744",
     "status": "completed"
    },
    "tags": []
   },
   "outputs": [
    {
     "data": {
      "text/html": [
       "<div>\n",
       "<style scoped>\n",
       "    .dataframe tbody tr th:only-of-type {\n",
       "        vertical-align: middle;\n",
       "    }\n",
       "\n",
       "    .dataframe tbody tr th {\n",
       "        vertical-align: top;\n",
       "    }\n",
       "\n",
       "    .dataframe thead th {\n",
       "        text-align: right;\n",
       "    }\n",
       "</style>\n",
       "<table border=\"1\" class=\"dataframe\">\n",
       "  <thead>\n",
       "    <tr style=\"text-align: right;\">\n",
       "      <th></th>\n",
       "      <th>price</th>\n",
       "      <th>area</th>\n",
       "      <th>bedrooms</th>\n",
       "      <th>bathrooms</th>\n",
       "      <th>stories</th>\n",
       "      <th>mainroad</th>\n",
       "      <th>guestroom</th>\n",
       "      <th>basement</th>\n",
       "      <th>hotwaterheating</th>\n",
       "      <th>airconditioning</th>\n",
       "      <th>parking</th>\n",
       "      <th>prefarea</th>\n",
       "      <th>furnishingstatus</th>\n",
       "    </tr>\n",
       "  </thead>\n",
       "  <tbody>\n",
       "    <tr>\n",
       "      <th>540</th>\n",
       "      <td>1820000</td>\n",
       "      <td>3000</td>\n",
       "      <td>2</td>\n",
       "      <td>1</td>\n",
       "      <td>1</td>\n",
       "      <td>yes</td>\n",
       "      <td>no</td>\n",
       "      <td>yes</td>\n",
       "      <td>no</td>\n",
       "      <td>no</td>\n",
       "      <td>2</td>\n",
       "      <td>no</td>\n",
       "      <td>unfurnished</td>\n",
       "    </tr>\n",
       "    <tr>\n",
       "      <th>541</th>\n",
       "      <td>1767150</td>\n",
       "      <td>2400</td>\n",
       "      <td>3</td>\n",
       "      <td>1</td>\n",
       "      <td>1</td>\n",
       "      <td>no</td>\n",
       "      <td>no</td>\n",
       "      <td>no</td>\n",
       "      <td>no</td>\n",
       "      <td>no</td>\n",
       "      <td>0</td>\n",
       "      <td>no</td>\n",
       "      <td>semi-furnished</td>\n",
       "    </tr>\n",
       "    <tr>\n",
       "      <th>542</th>\n",
       "      <td>1750000</td>\n",
       "      <td>3620</td>\n",
       "      <td>2</td>\n",
       "      <td>1</td>\n",
       "      <td>1</td>\n",
       "      <td>yes</td>\n",
       "      <td>no</td>\n",
       "      <td>no</td>\n",
       "      <td>no</td>\n",
       "      <td>no</td>\n",
       "      <td>0</td>\n",
       "      <td>no</td>\n",
       "      <td>unfurnished</td>\n",
       "    </tr>\n",
       "    <tr>\n",
       "      <th>543</th>\n",
       "      <td>1750000</td>\n",
       "      <td>2910</td>\n",
       "      <td>3</td>\n",
       "      <td>1</td>\n",
       "      <td>1</td>\n",
       "      <td>no</td>\n",
       "      <td>no</td>\n",
       "      <td>no</td>\n",
       "      <td>no</td>\n",
       "      <td>no</td>\n",
       "      <td>0</td>\n",
       "      <td>no</td>\n",
       "      <td>furnished</td>\n",
       "    </tr>\n",
       "    <tr>\n",
       "      <th>544</th>\n",
       "      <td>1750000</td>\n",
       "      <td>3850</td>\n",
       "      <td>3</td>\n",
       "      <td>1</td>\n",
       "      <td>2</td>\n",
       "      <td>yes</td>\n",
       "      <td>no</td>\n",
       "      <td>no</td>\n",
       "      <td>no</td>\n",
       "      <td>no</td>\n",
       "      <td>0</td>\n",
       "      <td>no</td>\n",
       "      <td>unfurnished</td>\n",
       "    </tr>\n",
       "  </tbody>\n",
       "</table>\n",
       "</div>"
      ],
      "text/plain": [
       "       price  area  bedrooms  bathrooms  stories mainroad guestroom basement  \\\n",
       "540  1820000  3000         2          1        1      yes        no      yes   \n",
       "541  1767150  2400         3          1        1       no        no       no   \n",
       "542  1750000  3620         2          1        1      yes        no       no   \n",
       "543  1750000  2910         3          1        1       no        no       no   \n",
       "544  1750000  3850         3          1        2      yes        no       no   \n",
       "\n",
       "    hotwaterheating airconditioning  parking prefarea furnishingstatus  \n",
       "540              no              no        2       no      unfurnished  \n",
       "541              no              no        0       no   semi-furnished  \n",
       "542              no              no        0       no      unfurnished  \n",
       "543              no              no        0       no        furnished  \n",
       "544              no              no        0       no      unfurnished  "
      ]
     },
     "execution_count": 39,
     "metadata": {},
     "output_type": "execute_result"
    }
   ],
   "source": [
    "# Displaying our data from the end\n",
    "data.tail(5)"
   ]
  },
  {
   "cell_type": "markdown",
   "id": "42605b63",
   "metadata": {
    "papermill": {
     "duration": 0.020754,
     "end_time": "2023-07-12T12:30:24.550402",
     "exception": false,
     "start_time": "2023-07-12T12:30:24.529648",
     "status": "completed"
    },
    "tags": []
   },
   "source": [
    "# **Understanding our data**"
   ]
  },
  {
   "cell_type": "code",
   "execution_count": 40,
   "id": "fc695a48",
   "metadata": {
    "execution": {
     "iopub.execute_input": "2023-07-12T12:30:24.594202Z",
     "iopub.status.busy": "2023-07-12T12:30:24.593731Z",
     "iopub.status.idle": "2023-07-12T12:30:24.599357Z",
     "shell.execute_reply": "2023-07-12T12:30:24.598395Z"
    },
    "papermill": {
     "duration": 0.030802,
     "end_time": "2023-07-12T12:30:24.602011",
     "exception": false,
     "start_time": "2023-07-12T12:30:24.571209",
     "status": "completed"
    },
    "tags": []
   },
   "outputs": [
    {
     "name": "stdout",
     "output_type": "stream",
     "text": [
      "Rows and Columns of the dataset :-  (545, 13)\n"
     ]
    }
   ],
   "source": [
    "# Shape of our data\n",
    "print(\"Rows and Columns of the dataset :- \",data.shape)"
   ]
  },
  {
   "cell_type": "code",
   "execution_count": 41,
   "id": "7bdd9686",
   "metadata": {
    "execution": {
     "iopub.execute_input": "2023-07-12T12:30:24.647046Z",
     "iopub.status.busy": "2023-07-12T12:30:24.646559Z",
     "iopub.status.idle": "2023-07-12T12:30:24.677599Z",
     "shell.execute_reply": "2023-07-12T12:30:24.675963Z"
    },
    "papermill": {
     "duration": 0.057024,
     "end_time": "2023-07-12T12:30:24.680552",
     "exception": false,
     "start_time": "2023-07-12T12:30:24.623528",
     "status": "completed"
    },
    "tags": []
   },
   "outputs": [
    {
     "name": "stdout",
     "output_type": "stream",
     "text": [
      "<class 'pandas.core.frame.DataFrame'>\n",
      "RangeIndex: 545 entries, 0 to 544\n",
      "Data columns (total 13 columns):\n",
      " #   Column            Non-Null Count  Dtype \n",
      "---  ------            --------------  ----- \n",
      " 0   price             545 non-null    int64 \n",
      " 1   area              545 non-null    int64 \n",
      " 2   bedrooms          545 non-null    int64 \n",
      " 3   bathrooms         545 non-null    int64 \n",
      " 4   stories           545 non-null    int64 \n",
      " 5   mainroad          545 non-null    object\n",
      " 6   guestroom         545 non-null    object\n",
      " 7   basement          545 non-null    object\n",
      " 8   hotwaterheating   545 non-null    object\n",
      " 9   airconditioning   545 non-null    object\n",
      " 10  parking           545 non-null    int64 \n",
      " 11  prefarea          545 non-null    object\n",
      " 12  furnishingstatus  545 non-null    object\n",
      "dtypes: int64(6), object(7)\n",
      "memory usage: 55.5+ KB\n"
     ]
    }
   ],
   "source": [
    "# Identifying information about composition and potential data quality\n",
    "data.info()"
   ]
  },
  {
   "cell_type": "code",
   "execution_count": 42,
   "id": "170d2dd9",
   "metadata": {
    "execution": {
     "iopub.execute_input": "2023-07-12T12:30:24.726176Z",
     "iopub.status.busy": "2023-07-12T12:30:24.725698Z",
     "iopub.status.idle": "2023-07-12T12:30:24.734949Z",
     "shell.execute_reply": "2023-07-12T12:30:24.733523Z"
    },
    "papermill": {
     "duration": 0.036229,
     "end_time": "2023-07-12T12:30:24.737949",
     "exception": false,
     "start_time": "2023-07-12T12:30:24.701720",
     "status": "completed"
    },
    "tags": []
   },
   "outputs": [
    {
     "data": {
      "text/plain": [
       "Index(['price', 'area', 'bedrooms', 'bathrooms', 'stories', 'mainroad',\n",
       "       'guestroom', 'basement', 'hotwaterheating', 'airconditioning',\n",
       "       'parking', 'prefarea', 'furnishingstatus'],\n",
       "      dtype='object')"
      ]
     },
     "execution_count": 42,
     "metadata": {},
     "output_type": "execute_result"
    }
   ],
   "source": [
    "data.columns"
   ]
  },
  {
   "cell_type": "markdown",
   "id": "c28fda9d",
   "metadata": {
    "papermill": {
     "duration": 0.021909,
     "end_time": "2023-07-12T12:30:24.781946",
     "exception": false,
     "start_time": "2023-07-12T12:30:24.760037",
     "status": "completed"
    },
    "tags": []
   },
   "source": [
    "#### **Columns or Features Description**\n",
    "\n",
    "- 'price': The price of the house (target variable).\n",
    "- 'area': The area or size of the house in square feet.\n",
    "- 'bedrooms': The number of bedrooms in the house.\n",
    "- 'bathrooms': The number of bathrooms in the house.\n",
    "- 'stories': The number of stories or floors in the house.\n",
    "- 'mainroad': Categorical variable indicating whether the house is located near the main road or not.\n",
    "- 'guestroom': Categorical variable indicating whether the house has a guest room or not.\n",
    "- 'basement': Categorical variable indicating whether the house has a basement or not.\n",
    "- 'hotwaterheating': Categorical variable indicating whether the house has hot water heating or not.\n",
    "- 'airconditioning': Categorical variable indicating whether the house has air conditioning or not.\n",
    "- 'parking': The number of parking spaces available with the house.\n",
    "- 'prefarea': Categorical variable indicating whether the house is in a preferred area or not.\n",
    "- 'furnishingstatus': The furnishing status of the house (e.g., unfurnished, semi-furnished, fully furnished)."
   ]
  },
  {
   "cell_type": "code",
   "execution_count": 43,
   "id": "5a1ab9ec",
   "metadata": {
    "execution": {
     "iopub.execute_input": "2023-07-12T12:30:24.827074Z",
     "iopub.status.busy": "2023-07-12T12:30:24.826623Z",
     "iopub.status.idle": "2023-07-12T12:30:24.886717Z",
     "shell.execute_reply": "2023-07-12T12:30:24.885259Z"
    },
    "papermill": {
     "duration": 0.086226,
     "end_time": "2023-07-12T12:30:24.889817",
     "exception": false,
     "start_time": "2023-07-12T12:30:24.803591",
     "status": "completed"
    },
    "tags": []
   },
   "outputs": [
    {
     "data": {
      "text/html": [
       "<div>\n",
       "<style scoped>\n",
       "    .dataframe tbody tr th:only-of-type {\n",
       "        vertical-align: middle;\n",
       "    }\n",
       "\n",
       "    .dataframe tbody tr th {\n",
       "        vertical-align: top;\n",
       "    }\n",
       "\n",
       "    .dataframe thead th {\n",
       "        text-align: right;\n",
       "    }\n",
       "</style>\n",
       "<table border=\"1\" class=\"dataframe\">\n",
       "  <thead>\n",
       "    <tr style=\"text-align: right;\">\n",
       "      <th></th>\n",
       "      <th>price</th>\n",
       "      <th>area</th>\n",
       "      <th>bedrooms</th>\n",
       "      <th>bathrooms</th>\n",
       "      <th>stories</th>\n",
       "      <th>mainroad</th>\n",
       "      <th>guestroom</th>\n",
       "      <th>basement</th>\n",
       "      <th>hotwaterheating</th>\n",
       "      <th>airconditioning</th>\n",
       "      <th>parking</th>\n",
       "      <th>prefarea</th>\n",
       "      <th>furnishingstatus</th>\n",
       "    </tr>\n",
       "  </thead>\n",
       "  <tbody>\n",
       "    <tr>\n",
       "      <th>count</th>\n",
       "      <td>5.450000e+02</td>\n",
       "      <td>545.000000</td>\n",
       "      <td>545.000000</td>\n",
       "      <td>545.000000</td>\n",
       "      <td>545.000000</td>\n",
       "      <td>545</td>\n",
       "      <td>545</td>\n",
       "      <td>545</td>\n",
       "      <td>545</td>\n",
       "      <td>545</td>\n",
       "      <td>545.000000</td>\n",
       "      <td>545</td>\n",
       "      <td>545</td>\n",
       "    </tr>\n",
       "    <tr>\n",
       "      <th>unique</th>\n",
       "      <td>NaN</td>\n",
       "      <td>NaN</td>\n",
       "      <td>NaN</td>\n",
       "      <td>NaN</td>\n",
       "      <td>NaN</td>\n",
       "      <td>2</td>\n",
       "      <td>2</td>\n",
       "      <td>2</td>\n",
       "      <td>2</td>\n",
       "      <td>2</td>\n",
       "      <td>NaN</td>\n",
       "      <td>2</td>\n",
       "      <td>3</td>\n",
       "    </tr>\n",
       "    <tr>\n",
       "      <th>top</th>\n",
       "      <td>NaN</td>\n",
       "      <td>NaN</td>\n",
       "      <td>NaN</td>\n",
       "      <td>NaN</td>\n",
       "      <td>NaN</td>\n",
       "      <td>yes</td>\n",
       "      <td>no</td>\n",
       "      <td>no</td>\n",
       "      <td>no</td>\n",
       "      <td>no</td>\n",
       "      <td>NaN</td>\n",
       "      <td>no</td>\n",
       "      <td>semi-furnished</td>\n",
       "    </tr>\n",
       "    <tr>\n",
       "      <th>freq</th>\n",
       "      <td>NaN</td>\n",
       "      <td>NaN</td>\n",
       "      <td>NaN</td>\n",
       "      <td>NaN</td>\n",
       "      <td>NaN</td>\n",
       "      <td>468</td>\n",
       "      <td>448</td>\n",
       "      <td>354</td>\n",
       "      <td>520</td>\n",
       "      <td>373</td>\n",
       "      <td>NaN</td>\n",
       "      <td>417</td>\n",
       "      <td>227</td>\n",
       "    </tr>\n",
       "    <tr>\n",
       "      <th>mean</th>\n",
       "      <td>4.766729e+06</td>\n",
       "      <td>5150.541284</td>\n",
       "      <td>2.965138</td>\n",
       "      <td>1.286239</td>\n",
       "      <td>1.805505</td>\n",
       "      <td>NaN</td>\n",
       "      <td>NaN</td>\n",
       "      <td>NaN</td>\n",
       "      <td>NaN</td>\n",
       "      <td>NaN</td>\n",
       "      <td>0.693578</td>\n",
       "      <td>NaN</td>\n",
       "      <td>NaN</td>\n",
       "    </tr>\n",
       "    <tr>\n",
       "      <th>std</th>\n",
       "      <td>1.870440e+06</td>\n",
       "      <td>2170.141023</td>\n",
       "      <td>0.738064</td>\n",
       "      <td>0.502470</td>\n",
       "      <td>0.867492</td>\n",
       "      <td>NaN</td>\n",
       "      <td>NaN</td>\n",
       "      <td>NaN</td>\n",
       "      <td>NaN</td>\n",
       "      <td>NaN</td>\n",
       "      <td>0.861586</td>\n",
       "      <td>NaN</td>\n",
       "      <td>NaN</td>\n",
       "    </tr>\n",
       "    <tr>\n",
       "      <th>min</th>\n",
       "      <td>1.750000e+06</td>\n",
       "      <td>1650.000000</td>\n",
       "      <td>1.000000</td>\n",
       "      <td>1.000000</td>\n",
       "      <td>1.000000</td>\n",
       "      <td>NaN</td>\n",
       "      <td>NaN</td>\n",
       "      <td>NaN</td>\n",
       "      <td>NaN</td>\n",
       "      <td>NaN</td>\n",
       "      <td>0.000000</td>\n",
       "      <td>NaN</td>\n",
       "      <td>NaN</td>\n",
       "    </tr>\n",
       "    <tr>\n",
       "      <th>25%</th>\n",
       "      <td>3.430000e+06</td>\n",
       "      <td>3600.000000</td>\n",
       "      <td>2.000000</td>\n",
       "      <td>1.000000</td>\n",
       "      <td>1.000000</td>\n",
       "      <td>NaN</td>\n",
       "      <td>NaN</td>\n",
       "      <td>NaN</td>\n",
       "      <td>NaN</td>\n",
       "      <td>NaN</td>\n",
       "      <td>0.000000</td>\n",
       "      <td>NaN</td>\n",
       "      <td>NaN</td>\n",
       "    </tr>\n",
       "    <tr>\n",
       "      <th>50%</th>\n",
       "      <td>4.340000e+06</td>\n",
       "      <td>4600.000000</td>\n",
       "      <td>3.000000</td>\n",
       "      <td>1.000000</td>\n",
       "      <td>2.000000</td>\n",
       "      <td>NaN</td>\n",
       "      <td>NaN</td>\n",
       "      <td>NaN</td>\n",
       "      <td>NaN</td>\n",
       "      <td>NaN</td>\n",
       "      <td>0.000000</td>\n",
       "      <td>NaN</td>\n",
       "      <td>NaN</td>\n",
       "    </tr>\n",
       "    <tr>\n",
       "      <th>75%</th>\n",
       "      <td>5.740000e+06</td>\n",
       "      <td>6360.000000</td>\n",
       "      <td>3.000000</td>\n",
       "      <td>2.000000</td>\n",
       "      <td>2.000000</td>\n",
       "      <td>NaN</td>\n",
       "      <td>NaN</td>\n",
       "      <td>NaN</td>\n",
       "      <td>NaN</td>\n",
       "      <td>NaN</td>\n",
       "      <td>1.000000</td>\n",
       "      <td>NaN</td>\n",
       "      <td>NaN</td>\n",
       "    </tr>\n",
       "    <tr>\n",
       "      <th>max</th>\n",
       "      <td>1.330000e+07</td>\n",
       "      <td>16200.000000</td>\n",
       "      <td>6.000000</td>\n",
       "      <td>4.000000</td>\n",
       "      <td>4.000000</td>\n",
       "      <td>NaN</td>\n",
       "      <td>NaN</td>\n",
       "      <td>NaN</td>\n",
       "      <td>NaN</td>\n",
       "      <td>NaN</td>\n",
       "      <td>3.000000</td>\n",
       "      <td>NaN</td>\n",
       "      <td>NaN</td>\n",
       "    </tr>\n",
       "  </tbody>\n",
       "</table>\n",
       "</div>"
      ],
      "text/plain": [
       "               price          area    bedrooms   bathrooms     stories  \\\n",
       "count   5.450000e+02    545.000000  545.000000  545.000000  545.000000   \n",
       "unique           NaN           NaN         NaN         NaN         NaN   \n",
       "top              NaN           NaN         NaN         NaN         NaN   \n",
       "freq             NaN           NaN         NaN         NaN         NaN   \n",
       "mean    4.766729e+06   5150.541284    2.965138    1.286239    1.805505   \n",
       "std     1.870440e+06   2170.141023    0.738064    0.502470    0.867492   \n",
       "min     1.750000e+06   1650.000000    1.000000    1.000000    1.000000   \n",
       "25%     3.430000e+06   3600.000000    2.000000    1.000000    1.000000   \n",
       "50%     4.340000e+06   4600.000000    3.000000    1.000000    2.000000   \n",
       "75%     5.740000e+06   6360.000000    3.000000    2.000000    2.000000   \n",
       "max     1.330000e+07  16200.000000    6.000000    4.000000    4.000000   \n",
       "\n",
       "       mainroad guestroom basement hotwaterheating airconditioning  \\\n",
       "count       545       545      545             545             545   \n",
       "unique        2         2        2               2               2   \n",
       "top         yes        no       no              no              no   \n",
       "freq        468       448      354             520             373   \n",
       "mean        NaN       NaN      NaN             NaN             NaN   \n",
       "std         NaN       NaN      NaN             NaN             NaN   \n",
       "min         NaN       NaN      NaN             NaN             NaN   \n",
       "25%         NaN       NaN      NaN             NaN             NaN   \n",
       "50%         NaN       NaN      NaN             NaN             NaN   \n",
       "75%         NaN       NaN      NaN             NaN             NaN   \n",
       "max         NaN       NaN      NaN             NaN             NaN   \n",
       "\n",
       "           parking prefarea furnishingstatus  \n",
       "count   545.000000      545              545  \n",
       "unique         NaN        2                3  \n",
       "top            NaN       no   semi-furnished  \n",
       "freq           NaN      417              227  \n",
       "mean      0.693578      NaN              NaN  \n",
       "std       0.861586      NaN              NaN  \n",
       "min       0.000000      NaN              NaN  \n",
       "25%       0.000000      NaN              NaN  \n",
       "50%       0.000000      NaN              NaN  \n",
       "75%       1.000000      NaN              NaN  \n",
       "max       3.000000      NaN              NaN  "
      ]
     },
     "execution_count": 43,
     "metadata": {},
     "output_type": "execute_result"
    }
   ],
   "source": [
    "# To show statistical summary of the columns of our data\n",
    "data.describe(include ='all')"
   ]
  },
  {
   "cell_type": "markdown",
   "id": "c3d4de94",
   "metadata": {
    "papermill": {
     "duration": 0.021446,
     "end_time": "2023-07-12T12:30:24.933727",
     "exception": false,
     "start_time": "2023-07-12T12:30:24.912281",
     "status": "completed"
    },
    "tags": []
   },
   "source": [
    "# **Checking NULL Values**"
   ]
  },
  {
   "cell_type": "code",
   "execution_count": 44,
   "id": "6a33163c",
   "metadata": {
    "execution": {
     "iopub.execute_input": "2023-07-12T12:30:24.979915Z",
     "iopub.status.busy": "2023-07-12T12:30:24.978958Z",
     "iopub.status.idle": "2023-07-12T12:30:24.990692Z",
     "shell.execute_reply": "2023-07-12T12:30:24.989731Z"
    },
    "papermill": {
     "duration": 0.037688,
     "end_time": "2023-07-12T12:30:24.993196",
     "exception": false,
     "start_time": "2023-07-12T12:30:24.955508",
     "status": "completed"
    },
    "tags": []
   },
   "outputs": [
    {
     "data": {
      "text/plain": [
       "price               0\n",
       "area                0\n",
       "bedrooms            0\n",
       "bathrooms           0\n",
       "stories             0\n",
       "mainroad            0\n",
       "guestroom           0\n",
       "basement            0\n",
       "hotwaterheating     0\n",
       "airconditioning     0\n",
       "parking             0\n",
       "prefarea            0\n",
       "furnishingstatus    0\n",
       "dtype: int64"
      ]
     },
     "execution_count": 44,
     "metadata": {},
     "output_type": "execute_result"
    }
   ],
   "source": [
    "# To count the null values\n",
    "data.isnull().sum()"
   ]
  },
  {
   "cell_type": "markdown",
   "id": "c90bf1e6",
   "metadata": {
    "papermill": {
     "duration": 0.021699,
     "end_time": "2023-07-12T12:30:25.037437",
     "exception": false,
     "start_time": "2023-07-12T12:30:25.015738",
     "status": "completed"
    },
    "tags": []
   },
   "source": [
    "The inference we can make after checking for null values and finding that there are no null values in any of the columns is that the dataset is complete in terms of missing values. \n",
    "\n",
    "Having no null values is beneficial because it allows us to work with the entire dataset without the need for imputation or handling missing data. We can proceed with further data analysis, visualization, and modeling."
   ]
  },
  {
   "cell_type": "markdown",
   "id": "dd8e3afc",
   "metadata": {
    "papermill": {
     "duration": 0.021779,
     "end_time": "2023-07-12T12:30:25.082469",
     "exception": false,
     "start_time": "2023-07-12T12:30:25.060690",
     "status": "completed"
    },
    "tags": []
   },
   "source": [
    "# **Performing EDA**\n"
   ]
  },
  {
   "cell_type": "code",
   "execution_count": 45,
   "id": "893359c0",
   "metadata": {
    "execution": {
     "iopub.execute_input": "2023-07-12T12:30:25.129093Z",
     "iopub.status.busy": "2023-07-12T12:30:25.128344Z",
     "iopub.status.idle": "2023-07-12T12:30:25.457934Z",
     "shell.execute_reply": "2023-07-12T12:30:25.456450Z"
    },
    "papermill": {
     "duration": 0.356792,
     "end_time": "2023-07-12T12:30:25.461519",
     "exception": false,
     "start_time": "2023-07-12T12:30:25.104727",
     "status": "completed"
    },
    "tags": []
   },
   "outputs": [
    {
     "data": {
      "image/png": "[encoded data removed]",
      "text/plain": [
       "<Figure size 640x480 with 1 Axes>"
      ]
     },
     "metadata": {},
     "output_type": "display_data"
    }
   ],
   "source": [
    "# Histogram of 'price'\n",
    "plt.hist(data['price'])\n",
    "plt.xlabel('Price')\n",
    "plt.ylabel('Frequency')\n",
    "plt.show()"
   ]
  },
  {
   "cell_type": "code",
   "execution_count": 46,
   "id": "cc63215e",
   "metadata": {
    "execution": {
     "iopub.execute_input": "2023-07-12T12:30:25.508860Z",
     "iopub.status.busy": "2023-07-12T12:30:25.508418Z",
     "iopub.status.idle": "2023-07-12T12:30:25.772865Z",
     "shell.execute_reply": "2023-07-12T12:30:25.771682Z"
    },
    "papermill": {
     "duration": 0.291832,
     "end_time": "2023-07-12T12:30:25.775866",
     "exception": false,
     "start_time": "2023-07-12T12:30:25.484034",
     "status": "completed"
    },
    "tags": []
   },
   "outputs": [
    {
     "data": {
      "image/png": "[encoded data removed]",
      "text/plain": [
       "<Figure size 500x400 with 1 Axes>"
      ]
     },
     "metadata": {},
     "output_type": "display_data"
    }
   ],
   "source": [
    "#'price' vs. 'furnishingstatus'\n",
    "plt.figure(figsize=(5,4))\n",
    "sns.barplot(data=data, x='furnishingstatus', y='price', errorbar=None)\n",
    "plt.xlabel('Furnishing Status')\n",
    "plt.ylabel('Price')\n",
    "plt.title('Price vs. Furnishing Status')\n",
    "plt.xticks(rotation=45)  # Rotate x-axis labels for better readability\n",
    "plt.tight_layout()\n",
    "plt.show()"
   ]
  },
  {
   "cell_type": "code",
   "execution_count": 47,
   "id": "cf8af620",
   "metadata": {
    "execution": {
     "iopub.execute_input": "2023-07-12T12:30:25.825402Z",
     "iopub.status.busy": "2023-07-12T12:30:25.824896Z",
     "iopub.status.idle": "2023-07-12T12:30:26.139322Z",
     "shell.execute_reply": "2023-07-12T12:30:26.137795Z"
    },
    "papermill": {
     "duration": 0.343673,
     "end_time": "2023-07-12T12:30:26.142601",
     "exception": false,
     "start_time": "2023-07-12T12:30:25.798928",
     "status": "completed"
    },
    "tags": []
   },
   "outputs": [
    {
     "data": {
      "image/png": "[encoded data removed]",
      "text/plain": [
       "<Figure size 640x480 with 1 Axes>"
      ]
     },
     "metadata": {},
     "output_type": "display_data"
    }
   ],
   "source": [
    "# Scatter plot of 'area' vs. 'price'\n",
    "plt.scatter(data['area'], data['price'])\n",
    "plt.xlabel('Area')\n",
    "plt.ylabel('Price')\n",
    "plt.show()"
   ]
  },
  {
   "cell_type": "code",
   "execution_count": 48,
   "id": "81a14499",
   "metadata": {
    "execution": {
     "iopub.execute_input": "2023-07-12T12:30:26.193683Z",
     "iopub.status.busy": "2023-07-12T12:30:26.193210Z",
     "iopub.status.idle": "2023-07-12T12:30:26.618245Z",
     "shell.execute_reply": "2023-07-12T12:30:26.616764Z"
    },
    "papermill": {
     "duration": 0.454479,
     "end_time": "2023-07-12T12:30:26.621864",
     "exception": false,
     "start_time": "2023-07-12T12:30:26.167385",
     "status": "completed"
    },
    "tags": []
   },
   "outputs": [
    {
     "name": "stderr",
     "output_type": "stream",
     "text": [
      "C:\\Users\\hp\\AppData\\Local\\Temp\\ipykernel_10856\\3386866311.py:2: FutureWarning: The default value of numeric_only in DataFrame.corr is deprecated. In a future version, it will default to False. Select only valid columns or specify the value of numeric_only to silence this warning.\n",
      "  correlation_matrix = data.corr()\n"
     ]
    },
    {
     "data": {
      "image/png": "[encoded data removed]",
      "text/plain": [
       "<Figure size 640x480 with 2 Axes>"
      ]
     },
     "metadata": {},
     "output_type": "display_data"
    }
   ],
   "source": [
    "# Heatmap of correlation matrix\n",
    "correlation_matrix = data.corr()\n",
    "sns.heatmap(correlation_matrix,annot=True, cmap='coolwarm')\n",
    "plt.show()"
   ]
  },
  {
   "cell_type": "code",
   "execution_count": 49,
   "id": "65c06e41",
   "metadata": {
    "execution": {
     "iopub.execute_input": "2023-07-12T12:30:26.678597Z",
     "iopub.status.busy": "2023-07-12T12:30:26.676961Z",
     "iopub.status.idle": "2023-07-12T12:30:39.235036Z",
     "shell.execute_reply": "2023-07-12T12:30:39.233907Z"
    },
    "papermill": {
     "duration": 12.591308,
     "end_time": "2023-07-12T12:30:39.240066",
     "exception": false,
     "start_time": "2023-07-12T12:30:26.648758",
     "status": "completed"
    },
    "tags": []
   },
   "outputs": [
    {
     "data": {
      "image/png": "[encoded data removed]",
      "text/plain": [
       "<Figure size 1500x1500 with 42 Axes>"
      ]
     },
     "metadata": {},
     "output_type": "display_data"
    }
   ],
   "source": [
    "sns.pairplot(data)\n",
    "plt.show()"
   ]
  },
  {
   "cell_type": "code",
   "execution_count": 50,
   "id": "49fa9b3f",
   "metadata": {
    "execution": {
     "iopub.execute_input": "2023-07-12T12:30:39.298155Z",
     "iopub.status.busy": "2023-07-12T12:30:39.297633Z",
     "iopub.status.idle": "2023-07-12T12:30:39.603389Z",
     "shell.execute_reply": "2023-07-12T12:30:39.602409Z"
    },
    "papermill": {
     "duration": 0.337703,
     "end_time": "2023-07-12T12:30:39.605825",
     "exception": false,
     "start_time": "2023-07-12T12:30:39.268122",
     "status": "completed"
    },
    "tags": []
   },
   "outputs": [
    {
     "data": {
      "image/png": "[encoded data removed]",
      "text/plain": [
       "<Figure size 700x400 with 1 Axes>"
      ]
     },
     "metadata": {},
     "output_type": "display_data"
    }
   ],
   "source": [
    "# Density Plot of 'area'\n",
    "plt.figure(figsize=(7, 4))\n",
    "sns.kdeplot(data['area'], fill=True )\n",
    "plt.title('Density Plot of House Areas')\n",
    "plt.xlabel('Area')\n",
    "plt.ylabel('Density')\n",
    "plt.tight_layout()\n",
    "plt.show()"
   ]
  },
  {
   "cell_type": "code",
   "execution_count": 51,
   "id": "6b465be8",
   "metadata": {
    "execution": {
     "iopub.execute_input": "2023-07-12T12:30:39.668716Z",
     "iopub.status.busy": "2023-07-12T12:30:39.666989Z",
     "iopub.status.idle": "2023-07-12T12:30:39.984969Z",
     "shell.execute_reply": "2023-07-12T12:30:39.983568Z"
    },
    "papermill": {
     "duration": 0.351468,
     "end_time": "2023-07-12T12:30:39.987729",
     "exception": false,
     "start_time": "2023-07-12T12:30:39.636261",
     "status": "completed"
    },
    "tags": []
   },
   "outputs": [
    {
     "data": {
      "image/png": "[encoded data removed]",
      "text/plain": [
       "<Figure size 1000x600 with 1 Axes>"
      ]
     },
     "metadata": {},
     "output_type": "display_data"
    }
   ],
   "source": [
    "plt.figure(figsize=(10, 6))\n",
    "plt.hist(data['price'], bins=20, edgecolor='black')\n",
    "plt.title('Distribution of House Prices')\n",
    "plt.xlabel('Price')\n",
    "plt.ylabel('Frequency')\n",
    "plt.tight_layout()\n",
    "plt.show()"
   ]
  },
  {
   "cell_type": "markdown",
   "id": "10a6ae22",
   "metadata": {
    "papermill": {
     "duration": 0.029567,
     "end_time": "2023-07-12T12:30:40.047644",
     "exception": false,
     "start_time": "2023-07-12T12:30:40.018077",
     "status": "completed"
    },
    "tags": []
   },
   "source": [
    "# **Data Cleaning and Preparation**"
   ]
  },
  {
   "cell_type": "markdown",
   "id": "402af14c",
   "metadata": {
    "papermill": {
     "duration": 0.028796,
     "end_time": "2023-07-12T12:30:40.106883",
     "exception": false,
     "start_time": "2023-07-12T12:30:40.078087",
     "status": "completed"
    },
    "tags": []
   },
   "source": [
    "Before we move further lets understand what all are the changes we have to make in our dataset to prepare it for modelling. Some columns in our dataset contains categorical variables with \"yes\" and \"no\" values. In such cases, it is often necessary to make changes to these columns for further analysis or modeling. Here are some inferences for handling these columns:\n",
    "\n",
    "**1. Handling Binary Categorical Variables:**\n",
    "\n",
    "Some columns like 'mainroad', 'guestroom', 'basement', 'hotwaterheating', 'airconditioning', and 'prefarea' have \"yes\" and \"no\" values.\n",
    "\n",
    "We'll convert these into numbers: \"yes\" becomes 1, and \"no\" becomes 0.\n",
    "\n",
    "This change helps us use them as binary variables for analysis and modeling.\n",
    "\n",
    "**2. Creating Dummy Variables:**\n",
    "\n",
    "The 'furnishingstatus' column shows how a house is furnished: \"unfurnished\", \"semi-furnished\", or \"fully furnished\".\n",
    "\n",
    "To use this information in analysis and modeling, we'll create dummy variables.\n",
    "\n",
    "Dummy variables are like switches: for each category, we'll have a new column where 1 means that category is present, and 0 means it's not.\n",
    "\n",
    "This lets us include furnishing status as valuable data for our analysis.\n"
   ]
  },
  {
   "cell_type": "markdown",
   "id": "7f6a8efa",
   "metadata": {
    "papermill": {
     "duration": 0.029021,
     "end_time": "2023-07-12T12:30:40.164998",
     "exception": false,
     "start_time": "2023-07-12T12:30:40.135977",
     "status": "completed"
    },
    "tags": []
   },
   "source": [
    "### **1. Handling Binary Categorical Variables (Yes/No) Categories**"
   ]
  },
  {
   "cell_type": "code",
   "execution_count": 52,
   "id": "d3cef9fd",
   "metadata": {
    "execution": {
     "iopub.execute_input": "2023-07-12T12:30:40.226921Z",
     "iopub.status.busy": "2023-07-12T12:30:40.225237Z",
     "iopub.status.idle": "2023-07-12T12:30:40.232201Z",
     "shell.execute_reply": "2023-07-12T12:30:40.230969Z"
    },
    "papermill": {
     "duration": 0.040376,
     "end_time": "2023-07-12T12:30:40.234756",
     "exception": false,
     "start_time": "2023-07-12T12:30:40.194380",
     "status": "completed"
    },
    "tags": []
   },
   "outputs": [],
   "source": [
    "# List of categorical columns containing 'yes' and 'no' values\n",
    "categorical_col =  ['mainroad', 'guestroom', 'basement', 'hotwaterheating', 'airconditioning', 'prefarea']"
   ]
  },
  {
   "cell_type": "code",
   "execution_count": 53,
   "id": "5e84180d",
   "metadata": {
    "execution": {
     "iopub.execute_input": "2023-07-12T12:30:40.295642Z",
     "iopub.status.busy": "2023-07-12T12:30:40.294900Z",
     "iopub.status.idle": "2023-07-12T12:30:40.313568Z",
     "shell.execute_reply": "2023-07-12T12:30:40.312388Z"
    },
    "papermill": {
     "duration": 0.052321,
     "end_time": "2023-07-12T12:30:40.316029",
     "exception": false,
     "start_time": "2023-07-12T12:30:40.263708",
     "status": "completed"
    },
    "tags": []
   },
   "outputs": [
    {
     "data": {
      "text/html": [
       "<div>\n",
       "<style scoped>\n",
       "    .dataframe tbody tr th:only-of-type {\n",
       "        vertical-align: middle;\n",
       "    }\n",
       "\n",
       "    .dataframe tbody tr th {\n",
       "        vertical-align: top;\n",
       "    }\n",
       "\n",
       "    .dataframe thead th {\n",
       "        text-align: right;\n",
       "    }\n",
       "</style>\n",
       "<table border=\"1\" class=\"dataframe\">\n",
       "  <thead>\n",
       "    <tr style=\"text-align: right;\">\n",
       "      <th></th>\n",
       "      <th>mainroad</th>\n",
       "      <th>guestroom</th>\n",
       "      <th>basement</th>\n",
       "      <th>hotwaterheating</th>\n",
       "      <th>airconditioning</th>\n",
       "      <th>prefarea</th>\n",
       "    </tr>\n",
       "  </thead>\n",
       "  <tbody>\n",
       "    <tr>\n",
       "      <th>0</th>\n",
       "      <td>yes</td>\n",
       "      <td>no</td>\n",
       "      <td>no</td>\n",
       "      <td>no</td>\n",
       "      <td>yes</td>\n",
       "      <td>yes</td>\n",
       "    </tr>\n",
       "    <tr>\n",
       "      <th>1</th>\n",
       "      <td>yes</td>\n",
       "      <td>no</td>\n",
       "      <td>no</td>\n",
       "      <td>no</td>\n",
       "      <td>yes</td>\n",
       "      <td>no</td>\n",
       "    </tr>\n",
       "    <tr>\n",
       "      <th>2</th>\n",
       "      <td>yes</td>\n",
       "      <td>no</td>\n",
       "      <td>yes</td>\n",
       "      <td>no</td>\n",
       "      <td>no</td>\n",
       "      <td>yes</td>\n",
       "    </tr>\n",
       "    <tr>\n",
       "      <th>3</th>\n",
       "      <td>yes</td>\n",
       "      <td>no</td>\n",
       "      <td>yes</td>\n",
       "      <td>no</td>\n",
       "      <td>yes</td>\n",
       "      <td>yes</td>\n",
       "    </tr>\n",
       "    <tr>\n",
       "      <th>4</th>\n",
       "      <td>yes</td>\n",
       "      <td>yes</td>\n",
       "      <td>yes</td>\n",
       "      <td>no</td>\n",
       "      <td>yes</td>\n",
       "      <td>no</td>\n",
       "    </tr>\n",
       "    <tr>\n",
       "      <th>...</th>\n",
       "      <td>...</td>\n",
       "      <td>...</td>\n",
       "      <td>...</td>\n",
       "      <td>...</td>\n",
       "      <td>...</td>\n",
       "      <td>...</td>\n",
       "    </tr>\n",
       "    <tr>\n",
       "      <th>540</th>\n",
       "      <td>yes</td>\n",
       "      <td>no</td>\n",
       "      <td>yes</td>\n",
       "      <td>no</td>\n",
       "      <td>no</td>\n",
       "      <td>no</td>\n",
       "    </tr>\n",
       "    <tr>\n",
       "      <th>541</th>\n",
       "      <td>no</td>\n",
       "      <td>no</td>\n",
       "      <td>no</td>\n",
       "      <td>no</td>\n",
       "      <td>no</td>\n",
       "      <td>no</td>\n",
       "    </tr>\n",
       "    <tr>\n",
       "      <th>542</th>\n",
       "      <td>yes</td>\n",
       "      <td>no</td>\n",
       "      <td>no</td>\n",
       "      <td>no</td>\n",
       "      <td>no</td>\n",
       "      <td>no</td>\n",
       "    </tr>\n",
       "    <tr>\n",
       "      <th>543</th>\n",
       "      <td>no</td>\n",
       "      <td>no</td>\n",
       "      <td>no</td>\n",
       "      <td>no</td>\n",
       "      <td>no</td>\n",
       "      <td>no</td>\n",
       "    </tr>\n",
       "    <tr>\n",
       "      <th>544</th>\n",
       "      <td>yes</td>\n",
       "      <td>no</td>\n",
       "      <td>no</td>\n",
       "      <td>no</td>\n",
       "      <td>no</td>\n",
       "      <td>no</td>\n",
       "    </tr>\n",
       "  </tbody>\n",
       "</table>\n",
       "<p>545 rows × 6 columns</p>\n",
       "</div>"
      ],
      "text/plain": [
       "    mainroad guestroom basement hotwaterheating airconditioning prefarea\n",
       "0        yes        no       no              no             yes      yes\n",
       "1        yes        no       no              no             yes       no\n",
       "2        yes        no      yes              no              no      yes\n",
       "3        yes        no      yes              no             yes      yes\n",
       "4        yes       yes      yes              no             yes       no\n",
       "..       ...       ...      ...             ...             ...      ...\n",
       "540      yes        no      yes              no              no       no\n",
       "541       no        no       no              no              no       no\n",
       "542      yes        no       no              no              no       no\n",
       "543       no        no       no              no              no       no\n",
       "544      yes        no       no              no              no       no\n",
       "\n",
       "[545 rows x 6 columns]"
      ]
     },
     "execution_count": 53,
     "metadata": {},
     "output_type": "execute_result"
    }
   ],
   "source": [
    "data[categorical_col]"
   ]
  },
  {
   "cell_type": "code",
   "execution_count": 54,
   "id": "2618a9f8",
   "metadata": {
    "execution": {
     "iopub.execute_input": "2023-07-12T12:30:40.377413Z",
     "iopub.status.busy": "2023-07-12T12:30:40.376926Z",
     "iopub.status.idle": "2023-07-12T12:30:40.383007Z",
     "shell.execute_reply": "2023-07-12T12:30:40.381999Z"
    },
    "papermill": {
     "duration": 0.040513,
     "end_time": "2023-07-12T12:30:40.385793",
     "exception": false,
     "start_time": "2023-07-12T12:30:40.345280",
     "status": "completed"
    },
    "tags": []
   },
   "outputs": [],
   "source": [
    "def binary_map(x):\n",
    "    \"\"\"\n",
    "    Function to map 'yes' and 'no' values to 1 and 0, respectively.\n",
    "    \n",
    "    Parameters:\n",
    "    x (pandas Series): Input Series containing 'yes' and 'no' values.\n",
    "    \n",
    "    Returns:\n",
    "    pandas Series: Mapped Series with 'yes' mapped to 1 and 'no' mapped to 0.\n",
    "    \"\"\"\n",
    "    return x.map({'yes': 1, 'no': 0})"
   ]
  },
  {
   "cell_type": "code",
   "execution_count": 55,
   "id": "bce84d37",
   "metadata": {
    "execution": {
     "iopub.execute_input": "2023-07-12T12:30:40.446721Z",
     "iopub.status.busy": "2023-07-12T12:30:40.446283Z",
     "iopub.status.idle": "2023-07-12T12:30:40.477334Z",
     "shell.execute_reply": "2023-07-12T12:30:40.475750Z"
    },
    "papermill": {
     "duration": 0.064731,
     "end_time": "2023-07-12T12:30:40.480030",
     "exception": false,
     "start_time": "2023-07-12T12:30:40.415299",
     "status": "completed"
    },
    "tags": []
   },
   "outputs": [
    {
     "data": {
      "text/html": [
       "<div>\n",
       "<style scoped>\n",
       "    .dataframe tbody tr th:only-of-type {\n",
       "        vertical-align: middle;\n",
       "    }\n",
       "\n",
       "    .dataframe tbody tr th {\n",
       "        vertical-align: top;\n",
       "    }\n",
       "\n",
       "    .dataframe thead th {\n",
       "        text-align: right;\n",
       "    }\n",
       "</style>\n",
       "<table border=\"1\" class=\"dataframe\">\n",
       "  <thead>\n",
       "    <tr style=\"text-align: right;\">\n",
       "      <th></th>\n",
       "      <th>mainroad</th>\n",
       "      <th>guestroom</th>\n",
       "      <th>basement</th>\n",
       "      <th>hotwaterheating</th>\n",
       "      <th>airconditioning</th>\n",
       "      <th>prefarea</th>\n",
       "    </tr>\n",
       "  </thead>\n",
       "  <tbody>\n",
       "    <tr>\n",
       "      <th>0</th>\n",
       "      <td>1</td>\n",
       "      <td>0</td>\n",
       "      <td>0</td>\n",
       "      <td>0</td>\n",
       "      <td>1</td>\n",
       "      <td>1</td>\n",
       "    </tr>\n",
       "    <tr>\n",
       "      <th>1</th>\n",
       "      <td>1</td>\n",
       "      <td>0</td>\n",
       "      <td>0</td>\n",
       "      <td>0</td>\n",
       "      <td>1</td>\n",
       "      <td>0</td>\n",
       "    </tr>\n",
       "    <tr>\n",
       "      <th>2</th>\n",
       "      <td>1</td>\n",
       "      <td>0</td>\n",
       "      <td>1</td>\n",
       "      <td>0</td>\n",
       "      <td>0</td>\n",
       "      <td>1</td>\n",
       "    </tr>\n",
       "    <tr>\n",
       "      <th>3</th>\n",
       "      <td>1</td>\n",
       "      <td>0</td>\n",
       "      <td>1</td>\n",
       "      <td>0</td>\n",
       "      <td>1</td>\n",
       "      <td>1</td>\n",
       "    </tr>\n",
       "    <tr>\n",
       "      <th>4</th>\n",
       "      <td>1</td>\n",
       "      <td>1</td>\n",
       "      <td>1</td>\n",
       "      <td>0</td>\n",
       "      <td>1</td>\n",
       "      <td>0</td>\n",
       "    </tr>\n",
       "    <tr>\n",
       "      <th>...</th>\n",
       "      <td>...</td>\n",
       "      <td>...</td>\n",
       "      <td>...</td>\n",
       "      <td>...</td>\n",
       "      <td>...</td>\n",
       "      <td>...</td>\n",
       "    </tr>\n",
       "    <tr>\n",
       "      <th>540</th>\n",
       "      <td>1</td>\n",
       "      <td>0</td>\n",
       "      <td>1</td>\n",
       "      <td>0</td>\n",
       "      <td>0</td>\n",
       "      <td>0</td>\n",
       "    </tr>\n",
       "    <tr>\n",
       "      <th>541</th>\n",
       "      <td>0</td>\n",
       "      <td>0</td>\n",
       "      <td>0</td>\n",
       "      <td>0</td>\n",
       "      <td>0</td>\n",
       "      <td>0</td>\n",
       "    </tr>\n",
       "    <tr>\n",
       "      <th>542</th>\n",
       "      <td>1</td>\n",
       "      <td>0</td>\n",
       "      <td>0</td>\n",
       "      <td>0</td>\n",
       "      <td>0</td>\n",
       "      <td>0</td>\n",
       "    </tr>\n",
       "    <tr>\n",
       "      <th>543</th>\n",
       "      <td>0</td>\n",
       "      <td>0</td>\n",
       "      <td>0</td>\n",
       "      <td>0</td>\n",
       "      <td>0</td>\n",
       "      <td>0</td>\n",
       "    </tr>\n",
       "    <tr>\n",
       "      <th>544</th>\n",
       "      <td>1</td>\n",
       "      <td>0</td>\n",
       "      <td>0</td>\n",
       "      <td>0</td>\n",
       "      <td>0</td>\n",
       "      <td>0</td>\n",
       "    </tr>\n",
       "  </tbody>\n",
       "</table>\n",
       "<p>545 rows × 6 columns</p>\n",
       "</div>"
      ],
      "text/plain": [
       "     mainroad  guestroom  basement  hotwaterheating  airconditioning  prefarea\n",
       "0           1          0         0                0                1         1\n",
       "1           1          0         0                0                1         0\n",
       "2           1          0         1                0                0         1\n",
       "3           1          0         1                0                1         1\n",
       "4           1          1         1                0                1         0\n",
       "..        ...        ...       ...              ...              ...       ...\n",
       "540         1          0         1                0                0         0\n",
       "541         0          0         0                0                0         0\n",
       "542         1          0         0                0                0         0\n",
       "543         0          0         0                0                0         0\n",
       "544         1          0         0                0                0         0\n",
       "\n",
       "[545 rows x 6 columns]"
      ]
     },
     "execution_count": 55,
     "metadata": {},
     "output_type": "execute_result"
    }
   ],
   "source": [
    "# Apply the binary_map function to multiple categorical columns in the 'data' DataFrame\n",
    "data[categorical_col] = data[categorical_col].apply(binary_map)\n",
    "\n",
    "# Display the updated values of the categorical columns\n",
    "data[categorical_col]"
   ]
  },
  {
   "cell_type": "code",
   "execution_count": 56,
   "id": "7ef54d35",
   "metadata": {
    "execution": {
     "iopub.execute_input": "2023-07-12T12:30:40.542722Z",
     "iopub.status.busy": "2023-07-12T12:30:40.542250Z",
     "iopub.status.idle": "2023-07-12T12:30:40.558974Z",
     "shell.execute_reply": "2023-07-12T12:30:40.557884Z"
    },
    "papermill": {
     "duration": 0.051476,
     "end_time": "2023-07-12T12:30:40.561379",
     "exception": false,
     "start_time": "2023-07-12T12:30:40.509903",
     "status": "completed"
    },
    "tags": []
   },
   "outputs": [
    {
     "data": {
      "text/html": [
       "<div>\n",
       "<style scoped>\n",
       "    .dataframe tbody tr th:only-of-type {\n",
       "        vertical-align: middle;\n",
       "    }\n",
       "\n",
       "    .dataframe tbody tr th {\n",
       "        vertical-align: top;\n",
       "    }\n",
       "\n",
       "    .dataframe thead th {\n",
       "        text-align: right;\n",
       "    }\n",
       "</style>\n",
       "<table border=\"1\" class=\"dataframe\">\n",
       "  <thead>\n",
       "    <tr style=\"text-align: right;\">\n",
       "      <th></th>\n",
       "      <th>price</th>\n",
       "      <th>area</th>\n",
       "      <th>bedrooms</th>\n",
       "      <th>bathrooms</th>\n",
       "      <th>stories</th>\n",
       "      <th>mainroad</th>\n",
       "      <th>guestroom</th>\n",
       "      <th>basement</th>\n",
       "      <th>hotwaterheating</th>\n",
       "      <th>airconditioning</th>\n",
       "      <th>parking</th>\n",
       "      <th>prefarea</th>\n",
       "      <th>furnishingstatus</th>\n",
       "    </tr>\n",
       "  </thead>\n",
       "  <tbody>\n",
       "    <tr>\n",
       "      <th>0</th>\n",
       "      <td>13300000</td>\n",
       "      <td>7420</td>\n",
       "      <td>4</td>\n",
       "      <td>2</td>\n",
       "      <td>3</td>\n",
       "      <td>1</td>\n",
       "      <td>0</td>\n",
       "      <td>0</td>\n",
       "      <td>0</td>\n",
       "      <td>1</td>\n",
       "      <td>2</td>\n",
       "      <td>1</td>\n",
       "      <td>furnished</td>\n",
       "    </tr>\n",
       "    <tr>\n",
       "      <th>1</th>\n",
       "      <td>12250000</td>\n",
       "      <td>8960</td>\n",
       "      <td>4</td>\n",
       "      <td>4</td>\n",
       "      <td>4</td>\n",
       "      <td>1</td>\n",
       "      <td>0</td>\n",
       "      <td>0</td>\n",
       "      <td>0</td>\n",
       "      <td>1</td>\n",
       "      <td>3</td>\n",
       "      <td>0</td>\n",
       "      <td>furnished</td>\n",
       "    </tr>\n",
       "    <tr>\n",
       "      <th>2</th>\n",
       "      <td>12250000</td>\n",
       "      <td>9960</td>\n",
       "      <td>3</td>\n",
       "      <td>2</td>\n",
       "      <td>2</td>\n",
       "      <td>1</td>\n",
       "      <td>0</td>\n",
       "      <td>1</td>\n",
       "      <td>0</td>\n",
       "      <td>0</td>\n",
       "      <td>2</td>\n",
       "      <td>1</td>\n",
       "      <td>semi-furnished</td>\n",
       "    </tr>\n",
       "    <tr>\n",
       "      <th>3</th>\n",
       "      <td>12215000</td>\n",
       "      <td>7500</td>\n",
       "      <td>4</td>\n",
       "      <td>2</td>\n",
       "      <td>2</td>\n",
       "      <td>1</td>\n",
       "      <td>0</td>\n",
       "      <td>1</td>\n",
       "      <td>0</td>\n",
       "      <td>1</td>\n",
       "      <td>3</td>\n",
       "      <td>1</td>\n",
       "      <td>furnished</td>\n",
       "    </tr>\n",
       "    <tr>\n",
       "      <th>4</th>\n",
       "      <td>11410000</td>\n",
       "      <td>7420</td>\n",
       "      <td>4</td>\n",
       "      <td>1</td>\n",
       "      <td>2</td>\n",
       "      <td>1</td>\n",
       "      <td>1</td>\n",
       "      <td>1</td>\n",
       "      <td>0</td>\n",
       "      <td>1</td>\n",
       "      <td>2</td>\n",
       "      <td>0</td>\n",
       "      <td>furnished</td>\n",
       "    </tr>\n",
       "  </tbody>\n",
       "</table>\n",
       "</div>"
      ],
      "text/plain": [
       "      price  area  bedrooms  bathrooms  stories  mainroad  guestroom  \\\n",
       "0  13300000  7420         4          2        3         1          0   \n",
       "1  12250000  8960         4          4        4         1          0   \n",
       "2  12250000  9960         3          2        2         1          0   \n",
       "3  12215000  7500         4          2        2         1          0   \n",
       "4  11410000  7420         4          1        2         1          1   \n",
       "\n",
       "   basement  hotwaterheating  airconditioning  parking  prefarea  \\\n",
       "0         0                0                1        2         1   \n",
       "1         0                0                1        3         0   \n",
       "2         1                0                0        2         1   \n",
       "3         1                0                1        3         1   \n",
       "4         1                0                1        2         0   \n",
       "\n",
       "  furnishingstatus  \n",
       "0        furnished  \n",
       "1        furnished  \n",
       "2   semi-furnished  \n",
       "3        furnished  \n",
       "4        furnished  "
      ]
     },
     "execution_count": 56,
     "metadata": {},
     "output_type": "execute_result"
    }
   ],
   "source": [
    "# Display the first five rows of the DataFrame 'data' after the conversions\n",
    "data.head()"
   ]
  },
  {
   "cell_type": "markdown",
   "id": "86ae8b4e",
   "metadata": {
    "papermill": {
     "duration": 0.030859,
     "end_time": "2023-07-12T12:30:40.622483",
     "exception": false,
     "start_time": "2023-07-12T12:30:40.591624",
     "status": "completed"
    },
    "tags": []
   },
   "source": [
    "### **2. Handling Categorical data with Dummy Variable**"
   ]
  },
  {
   "cell_type": "code",
   "execution_count": 57,
   "id": "f0e05c73",
   "metadata": {
    "execution": {
     "iopub.execute_input": "2023-07-12T12:30:40.687829Z",
     "iopub.status.busy": "2023-07-12T12:30:40.687368Z",
     "iopub.status.idle": "2023-07-12T12:30:40.701456Z",
     "shell.execute_reply": "2023-07-12T12:30:40.700224Z"
    },
    "papermill": {
     "duration": 0.049814,
     "end_time": "2023-07-12T12:30:40.704044",
     "exception": false,
     "start_time": "2023-07-12T12:30:40.654230",
     "status": "completed"
    },
    "tags": []
   },
   "outputs": [
    {
     "data": {
      "text/html": [
       "<div>\n",
       "<style scoped>\n",
       "    .dataframe tbody tr th:only-of-type {\n",
       "        vertical-align: middle;\n",
       "    }\n",
       "\n",
       "    .dataframe tbody tr th {\n",
       "        vertical-align: top;\n",
       "    }\n",
       "\n",
       "    .dataframe thead th {\n",
       "        text-align: right;\n",
       "    }\n",
       "</style>\n",
       "<table border=\"1\" class=\"dataframe\">\n",
       "  <thead>\n",
       "    <tr style=\"text-align: right;\">\n",
       "      <th></th>\n",
       "      <th>furnished</th>\n",
       "      <th>semi-furnished</th>\n",
       "      <th>unfurnished</th>\n",
       "    </tr>\n",
       "  </thead>\n",
       "  <tbody>\n",
       "    <tr>\n",
       "      <th>0</th>\n",
       "      <td>1</td>\n",
       "      <td>0</td>\n",
       "      <td>0</td>\n",
       "    </tr>\n",
       "    <tr>\n",
       "      <th>1</th>\n",
       "      <td>1</td>\n",
       "      <td>0</td>\n",
       "      <td>0</td>\n",
       "    </tr>\n",
       "    <tr>\n",
       "      <th>2</th>\n",
       "      <td>0</td>\n",
       "      <td>1</td>\n",
       "      <td>0</td>\n",
       "    </tr>\n",
       "    <tr>\n",
       "      <th>3</th>\n",
       "      <td>1</td>\n",
       "      <td>0</td>\n",
       "      <td>0</td>\n",
       "    </tr>\n",
       "    <tr>\n",
       "      <th>4</th>\n",
       "      <td>1</td>\n",
       "      <td>0</td>\n",
       "      <td>0</td>\n",
       "    </tr>\n",
       "  </tbody>\n",
       "</table>\n",
       "</div>"
      ],
      "text/plain": [
       "   furnished  semi-furnished  unfurnished\n",
       "0          1               0            0\n",
       "1          1               0            0\n",
       "2          0               1            0\n",
       "3          1               0            0\n",
       "4          1               0            0"
      ]
     },
     "execution_count": 57,
     "metadata": {},
     "output_type": "execute_result"
    }
   ],
   "source": [
    "# Generate dummy variables for the 'furnishingstatus' column\n",
    "dummy_col = pd.get_dummies(data['furnishingstatus'])\n",
    "\n",
    "# Display the first few rows of the dummy variables DataFrame\n",
    "dummy_col.head()"
   ]
  },
  {
   "cell_type": "markdown",
   "id": "1595581a",
   "metadata": {
    "papermill": {
     "duration": 0.030676,
     "end_time": "2023-07-12T12:30:40.766259",
     "exception": false,
     "start_time": "2023-07-12T12:30:40.735583",
     "status": "completed"
    },
    "tags": []
   },
   "source": [
    "furnished will be 00 and to avoid redudency we drop it. semi-furnished will be 10 and unfurnished will be 01"
   ]
  },
  {
   "cell_type": "code",
   "execution_count": 58,
   "id": "e749bc0e",
   "metadata": {
    "execution": {
     "iopub.execute_input": "2023-07-12T12:30:40.830944Z",
     "iopub.status.busy": "2023-07-12T12:30:40.830487Z",
     "iopub.status.idle": "2023-07-12T12:30:40.844306Z",
     "shell.execute_reply": "2023-07-12T12:30:40.842694Z"
    },
    "papermill": {
     "duration": 0.049424,
     "end_time": "2023-07-12T12:30:40.846925",
     "exception": false,
     "start_time": "2023-07-12T12:30:40.797501",
     "status": "completed"
    },
    "tags": []
   },
   "outputs": [
    {
     "data": {
      "text/html": [
       "<div>\n",
       "<style scoped>\n",
       "    .dataframe tbody tr th:only-of-type {\n",
       "        vertical-align: middle;\n",
       "    }\n",
       "\n",
       "    .dataframe tbody tr th {\n",
       "        vertical-align: top;\n",
       "    }\n",
       "\n",
       "    .dataframe thead th {\n",
       "        text-align: right;\n",
       "    }\n",
       "</style>\n",
       "<table border=\"1\" class=\"dataframe\">\n",
       "  <thead>\n",
       "    <tr style=\"text-align: right;\">\n",
       "      <th></th>\n",
       "      <th>semi-furnished</th>\n",
       "      <th>unfurnished</th>\n",
       "    </tr>\n",
       "  </thead>\n",
       "  <tbody>\n",
       "    <tr>\n",
       "      <th>0</th>\n",
       "      <td>0</td>\n",
       "      <td>0</td>\n",
       "    </tr>\n",
       "    <tr>\n",
       "      <th>1</th>\n",
       "      <td>0</td>\n",
       "      <td>0</td>\n",
       "    </tr>\n",
       "    <tr>\n",
       "      <th>2</th>\n",
       "      <td>1</td>\n",
       "      <td>0</td>\n",
       "    </tr>\n",
       "    <tr>\n",
       "      <th>3</th>\n",
       "      <td>0</td>\n",
       "      <td>0</td>\n",
       "    </tr>\n",
       "    <tr>\n",
       "      <th>4</th>\n",
       "      <td>0</td>\n",
       "      <td>0</td>\n",
       "    </tr>\n",
       "  </tbody>\n",
       "</table>\n",
       "</div>"
      ],
      "text/plain": [
       "   semi-furnished  unfurnished\n",
       "0               0            0\n",
       "1               0            0\n",
       "2               1            0\n",
       "3               0            0\n",
       "4               0            0"
      ]
     },
     "execution_count": 58,
     "metadata": {},
     "output_type": "execute_result"
    }
   ],
   "source": [
    "# Regenerating dummy variables for the 'furnishingstatus' column, dropping the first category\n",
    "dummy_col = pd.get_dummies(data['furnishingstatus'], drop_first=True)\n",
    "\n",
    "# Display the first few rows of the dummy variables DataFrame\n",
    "dummy_col.head()"
   ]
  },
  {
   "cell_type": "markdown",
   "id": "fbe777f8",
   "metadata": {
    "papermill": {
     "duration": 0.030071,
     "end_time": "2023-07-12T12:30:40.908498",
     "exception": false,
     "start_time": "2023-07-12T12:30:40.878427",
     "status": "completed"
    },
    "tags": []
   },
   "source": [
    "#### **Why dropped first category among three?**\n",
    "\n",
    "When creating dummy variables for these categories, dropping the first category ('furnished') among the three would be appropriate. This is because we want to avoid the dummy variable trap or multicollinearity in regression models.\n",
    "\n",
    "By dropping the first category, 'furnished', we create two dummy variables: 'semi-furnished' and 'unfurnished'. These two variables will capture the presence or absence of 'semi-furnished' and 'unfurnished' categories relative to the baseline category, which is 'furnished'.\n",
    "\n",
    "Consider the following example:\n",
    "\n",
    "Original 'furnishingstatus' column:\n",
    "\n",
    "| Index | furnishingstatus |\n",
    "|-------|-----------------|\n",
    "| 0     | furnished       |\n",
    "| 1     | semi-furnished  |\n",
    "| 2     | unfurnished     |\n",
    "| 3     | furnished       |\n",
    "| 4     | semi-furnished  |\n",
    "\n",
    "\n",
    "After creating dummy variables and dropping 'furnished':\n",
    "\n",
    "| Index | semi-furnished | unfurnished |\n",
    "|-------|----------------|-------------|\n",
    "| 0     | 0              | 0           |\n",
    "| 1     | 1              | 0           |\n",
    "| 2     | 0              | 1           |\n",
    "| 3     | 0              | 0           |\n",
    "| 4     | 1              | 0           |\n",
    "\n",
    "\n",
    "Here, the first row with 'semi-furnished' and 'unfurnished' as both 0 indicates that it corresponds to the dropped category 'furnished'. The presence or absence of 'semi-furnished' and 'unfurnished' is captured by the values in the respective dummy variables.\n",
    "\n",
    "By dropping the first category, we ensure linear independence among the dummy variables, which helps avoid multicollinearity and allows for proper interpretation of the coefficients associated with each category in the regression model.\n"
   ]
  },
  {
   "cell_type": "code",
   "execution_count": 59,
   "id": "21d9af6e",
   "metadata": {
    "execution": {
     "iopub.execute_input": "2023-07-12T12:30:40.973692Z",
     "iopub.status.busy": "2023-07-12T12:30:40.973226Z",
     "iopub.status.idle": "2023-07-12T12:30:40.993386Z",
     "shell.execute_reply": "2023-07-12T12:30:40.992399Z"
    },
    "papermill": {
     "duration": 0.05642,
     "end_time": "2023-07-12T12:30:40.996064",
     "exception": false,
     "start_time": "2023-07-12T12:30:40.939644",
     "status": "completed"
    },
    "tags": []
   },
   "outputs": [
    {
     "data": {
      "text/html": [
       "<div>\n",
       "<style scoped>\n",
       "    .dataframe tbody tr th:only-of-type {\n",
       "        vertical-align: middle;\n",
       "    }\n",
       "\n",
       "    .dataframe tbody tr th {\n",
       "        vertical-align: top;\n",
       "    }\n",
       "\n",
       "    .dataframe thead th {\n",
       "        text-align: right;\n",
       "    }\n",
       "</style>\n",
       "<table border=\"1\" class=\"dataframe\">\n",
       "  <thead>\n",
       "    <tr style=\"text-align: right;\">\n",
       "      <th></th>\n",
       "      <th>price</th>\n",
       "      <th>area</th>\n",
       "      <th>bedrooms</th>\n",
       "      <th>bathrooms</th>\n",
       "      <th>stories</th>\n",
       "      <th>mainroad</th>\n",
       "      <th>guestroom</th>\n",
       "      <th>basement</th>\n",
       "      <th>hotwaterheating</th>\n",
       "      <th>airconditioning</th>\n",
       "      <th>parking</th>\n",
       "      <th>prefarea</th>\n",
       "      <th>furnishingstatus</th>\n",
       "      <th>semi-furnished</th>\n",
       "      <th>unfurnished</th>\n",
       "    </tr>\n",
       "  </thead>\n",
       "  <tbody>\n",
       "    <tr>\n",
       "      <th>0</th>\n",
       "      <td>13300000</td>\n",
       "      <td>7420</td>\n",
       "      <td>4</td>\n",
       "      <td>2</td>\n",
       "      <td>3</td>\n",
       "      <td>1</td>\n",
       "      <td>0</td>\n",
       "      <td>0</td>\n",
       "      <td>0</td>\n",
       "      <td>1</td>\n",
       "      <td>2</td>\n",
       "      <td>1</td>\n",
       "      <td>furnished</td>\n",
       "      <td>0</td>\n",
       "      <td>0</td>\n",
       "    </tr>\n",
       "    <tr>\n",
       "      <th>1</th>\n",
       "      <td>12250000</td>\n",
       "      <td>8960</td>\n",
       "      <td>4</td>\n",
       "      <td>4</td>\n",
       "      <td>4</td>\n",
       "      <td>1</td>\n",
       "      <td>0</td>\n",
       "      <td>0</td>\n",
       "      <td>0</td>\n",
       "      <td>1</td>\n",
       "      <td>3</td>\n",
       "      <td>0</td>\n",
       "      <td>furnished</td>\n",
       "      <td>0</td>\n",
       "      <td>0</td>\n",
       "    </tr>\n",
       "    <tr>\n",
       "      <th>2</th>\n",
       "      <td>12250000</td>\n",
       "      <td>9960</td>\n",
       "      <td>3</td>\n",
       "      <td>2</td>\n",
       "      <td>2</td>\n",
       "      <td>1</td>\n",
       "      <td>0</td>\n",
       "      <td>1</td>\n",
       "      <td>0</td>\n",
       "      <td>0</td>\n",
       "      <td>2</td>\n",
       "      <td>1</td>\n",
       "      <td>semi-furnished</td>\n",
       "      <td>1</td>\n",
       "      <td>0</td>\n",
       "    </tr>\n",
       "    <tr>\n",
       "      <th>3</th>\n",
       "      <td>12215000</td>\n",
       "      <td>7500</td>\n",
       "      <td>4</td>\n",
       "      <td>2</td>\n",
       "      <td>2</td>\n",
       "      <td>1</td>\n",
       "      <td>0</td>\n",
       "      <td>1</td>\n",
       "      <td>0</td>\n",
       "      <td>1</td>\n",
       "      <td>3</td>\n",
       "      <td>1</td>\n",
       "      <td>furnished</td>\n",
       "      <td>0</td>\n",
       "      <td>0</td>\n",
       "    </tr>\n",
       "    <tr>\n",
       "      <th>4</th>\n",
       "      <td>11410000</td>\n",
       "      <td>7420</td>\n",
       "      <td>4</td>\n",
       "      <td>1</td>\n",
       "      <td>2</td>\n",
       "      <td>1</td>\n",
       "      <td>1</td>\n",
       "      <td>1</td>\n",
       "      <td>0</td>\n",
       "      <td>1</td>\n",
       "      <td>2</td>\n",
       "      <td>0</td>\n",
       "      <td>furnished</td>\n",
       "      <td>0</td>\n",
       "      <td>0</td>\n",
       "    </tr>\n",
       "  </tbody>\n",
       "</table>\n",
       "</div>"
      ],
      "text/plain": [
       "      price  area  bedrooms  bathrooms  stories  mainroad  guestroom  \\\n",
       "0  13300000  7420         4          2        3         1          0   \n",
       "1  12250000  8960         4          4        4         1          0   \n",
       "2  12250000  9960         3          2        2         1          0   \n",
       "3  12215000  7500         4          2        2         1          0   \n",
       "4  11410000  7420         4          1        2         1          1   \n",
       "\n",
       "   basement  hotwaterheating  airconditioning  parking  prefarea  \\\n",
       "0         0                0                1        2         1   \n",
       "1         0                0                1        3         0   \n",
       "2         1                0                0        2         1   \n",
       "3         1                0                1        3         1   \n",
       "4         1                0                1        2         0   \n",
       "\n",
       "  furnishingstatus  semi-furnished  unfurnished  \n",
       "0        furnished               0            0  \n",
       "1        furnished               0            0  \n",
       "2   semi-furnished               1            0  \n",
       "3        furnished               0            0  \n",
       "4        furnished               0            0  "
      ]
     },
     "execution_count": 59,
     "metadata": {},
     "output_type": "execute_result"
    }
   ],
   "source": [
    "# Concatenate the original 'data' DataFrame with the 'dummy_col' DataFrame along columns\n",
    "data = pd.concat([data, dummy_col], axis=1)\n",
    "\n",
    "# Display the first few rows of the updated DataFrame\n",
    "data.head()"
   ]
  },
  {
   "cell_type": "code",
   "execution_count": 60,
   "id": "353f5853",
   "metadata": {
    "execution": {
     "iopub.execute_input": "2023-07-12T12:30:41.068833Z",
     "iopub.status.busy": "2023-07-12T12:30:41.068391Z",
     "iopub.status.idle": "2023-07-12T12:30:41.086038Z",
     "shell.execute_reply": "2023-07-12T12:30:41.084900Z"
    },
    "papermill": {
     "duration": 0.054699,
     "end_time": "2023-07-12T12:30:41.089001",
     "exception": false,
     "start_time": "2023-07-12T12:30:41.034302",
     "status": "completed"
    },
    "tags": []
   },
   "outputs": [
    {
     "data": {
      "text/html": [
       "<div>\n",
       "<style scoped>\n",
       "    .dataframe tbody tr th:only-of-type {\n",
       "        vertical-align: middle;\n",
       "    }\n",
       "\n",
       "    .dataframe tbody tr th {\n",
       "        vertical-align: top;\n",
       "    }\n",
       "\n",
       "    .dataframe thead th {\n",
       "        text-align: right;\n",
       "    }\n",
       "</style>\n",
       "<table border=\"1\" class=\"dataframe\">\n",
       "  <thead>\n",
       "    <tr style=\"text-align: right;\">\n",
       "      <th></th>\n",
       "      <th>price</th>\n",
       "      <th>area</th>\n",
       "      <th>bedrooms</th>\n",
       "      <th>bathrooms</th>\n",
       "      <th>stories</th>\n",
       "      <th>mainroad</th>\n",
       "      <th>guestroom</th>\n",
       "      <th>basement</th>\n",
       "      <th>hotwaterheating</th>\n",
       "      <th>airconditioning</th>\n",
       "      <th>parking</th>\n",
       "      <th>prefarea</th>\n",
       "      <th>semi-furnished</th>\n",
       "      <th>unfurnished</th>\n",
       "    </tr>\n",
       "  </thead>\n",
       "  <tbody>\n",
       "    <tr>\n",
       "      <th>0</th>\n",
       "      <td>13300000</td>\n",
       "      <td>7420</td>\n",
       "      <td>4</td>\n",
       "      <td>2</td>\n",
       "      <td>3</td>\n",
       "      <td>1</td>\n",
       "      <td>0</td>\n",
       "      <td>0</td>\n",
       "      <td>0</td>\n",
       "      <td>1</td>\n",
       "      <td>2</td>\n",
       "      <td>1</td>\n",
       "      <td>0</td>\n",
       "      <td>0</td>\n",
       "    </tr>\n",
       "    <tr>\n",
       "      <th>1</th>\n",
       "      <td>12250000</td>\n",
       "      <td>8960</td>\n",
       "      <td>4</td>\n",
       "      <td>4</td>\n",
       "      <td>4</td>\n",
       "      <td>1</td>\n",
       "      <td>0</td>\n",
       "      <td>0</td>\n",
       "      <td>0</td>\n",
       "      <td>1</td>\n",
       "      <td>3</td>\n",
       "      <td>0</td>\n",
       "      <td>0</td>\n",
       "      <td>0</td>\n",
       "    </tr>\n",
       "    <tr>\n",
       "      <th>2</th>\n",
       "      <td>12250000</td>\n",
       "      <td>9960</td>\n",
       "      <td>3</td>\n",
       "      <td>2</td>\n",
       "      <td>2</td>\n",
       "      <td>1</td>\n",
       "      <td>0</td>\n",
       "      <td>1</td>\n",
       "      <td>0</td>\n",
       "      <td>0</td>\n",
       "      <td>2</td>\n",
       "      <td>1</td>\n",
       "      <td>1</td>\n",
       "      <td>0</td>\n",
       "    </tr>\n",
       "    <tr>\n",
       "      <th>3</th>\n",
       "      <td>12215000</td>\n",
       "      <td>7500</td>\n",
       "      <td>4</td>\n",
       "      <td>2</td>\n",
       "      <td>2</td>\n",
       "      <td>1</td>\n",
       "      <td>0</td>\n",
       "      <td>1</td>\n",
       "      <td>0</td>\n",
       "      <td>1</td>\n",
       "      <td>3</td>\n",
       "      <td>1</td>\n",
       "      <td>0</td>\n",
       "      <td>0</td>\n",
       "    </tr>\n",
       "    <tr>\n",
       "      <th>4</th>\n",
       "      <td>11410000</td>\n",
       "      <td>7420</td>\n",
       "      <td>4</td>\n",
       "      <td>1</td>\n",
       "      <td>2</td>\n",
       "      <td>1</td>\n",
       "      <td>1</td>\n",
       "      <td>1</td>\n",
       "      <td>0</td>\n",
       "      <td>1</td>\n",
       "      <td>2</td>\n",
       "      <td>0</td>\n",
       "      <td>0</td>\n",
       "      <td>0</td>\n",
       "    </tr>\n",
       "  </tbody>\n",
       "</table>\n",
       "</div>"
      ],
      "text/plain": [
       "      price  area  bedrooms  bathrooms  stories  mainroad  guestroom  \\\n",
       "0  13300000  7420         4          2        3         1          0   \n",
       "1  12250000  8960         4          4        4         1          0   \n",
       "2  12250000  9960         3          2        2         1          0   \n",
       "3  12215000  7500         4          2        2         1          0   \n",
       "4  11410000  7420         4          1        2         1          1   \n",
       "\n",
       "   basement  hotwaterheating  airconditioning  parking  prefarea  \\\n",
       "0         0                0                1        2         1   \n",
       "1         0                0                1        3         0   \n",
       "2         1                0                0        2         1   \n",
       "3         1                0                1        3         1   \n",
       "4         1                0                1        2         0   \n",
       "\n",
       "   semi-furnished  unfurnished  \n",
       "0               0            0  \n",
       "1               0            0  \n",
       "2               1            0  \n",
       "3               0            0  \n",
       "4               0            0  "
      ]
     },
     "execution_count": 60,
     "metadata": {},
     "output_type": "execute_result"
    }
   ],
   "source": [
    "# Drop the 'furnishingstatus' column from the DataFrame\n",
    "data.drop(['furnishingstatus'], axis=1, inplace=True)\n",
    "\n",
    "# Display the first few rows of the updated DataFrame\n",
    "data.head()"
   ]
  },
  {
   "cell_type": "markdown",
   "id": "61f2298c",
   "metadata": {
    "papermill": {
     "duration": 0.031282,
     "end_time": "2023-07-12T12:30:41.151754",
     "exception": false,
     "start_time": "2023-07-12T12:30:41.120472",
     "status": "completed"
    },
    "tags": []
   },
   "source": [
    "# **Splitting data into Training and Testing data**"
   ]
  },
  {
   "cell_type": "code",
   "execution_count": 61,
   "id": "c611e69c",
   "metadata": {
    "execution": {
     "iopub.execute_input": "2023-07-12T12:30:41.216535Z",
     "iopub.status.busy": "2023-07-12T12:30:41.215729Z",
     "iopub.status.idle": "2023-07-12T12:30:41.223144Z",
     "shell.execute_reply": "2023-07-12T12:30:41.222143Z"
    },
    "papermill": {
     "duration": 0.04237,
     "end_time": "2023-07-12T12:30:41.225571",
     "exception": false,
     "start_time": "2023-07-12T12:30:41.183201",
     "status": "completed"
    },
    "tags": []
   },
   "outputs": [
    {
     "data": {
      "text/plain": [
       "Index(['price', 'area', 'bedrooms', 'bathrooms', 'stories', 'mainroad',\n",
       "       'guestroom', 'basement', 'hotwaterheating', 'airconditioning',\n",
       "       'parking', 'prefarea', 'semi-furnished', 'unfurnished'],\n",
       "      dtype='object')"
      ]
     },
     "execution_count": 61,
     "metadata": {},
     "output_type": "execute_result"
    }
   ],
   "source": [
    "# To show the columns or features of our dataset\n",
    "data.columns"
   ]
  },
  {
   "cell_type": "code",
   "execution_count": 62,
   "id": "d97ddfc8",
   "metadata": {
    "execution": {
     "iopub.execute_input": "2023-07-12T12:30:41.292110Z",
     "iopub.status.busy": "2023-07-12T12:30:41.290770Z",
     "iopub.status.idle": "2023-07-12T12:30:41.298994Z",
     "shell.execute_reply": "2023-07-12T12:30:41.298015Z"
    },
    "papermill": {
     "duration": 0.044956,
     "end_time": "2023-07-12T12:30:41.301768",
     "exception": false,
     "start_time": "2023-07-12T12:30:41.256812",
     "status": "completed"
    },
    "tags": []
   },
   "outputs": [],
   "source": [
    "np.random.seed(0)\n",
    "\n",
    "# Split the data into training and testing subsets\n",
    "df_train, df_test = train_test_split(data, train_size=0.7, test_size=0.3, random_state=100)"
   ]
  },
  {
   "cell_type": "code",
   "execution_count": 63,
   "id": "b3aedafb",
   "metadata": {
    "execution": {
     "iopub.execute_input": "2023-07-12T12:30:41.367542Z",
     "iopub.status.busy": "2023-07-12T12:30:41.366704Z",
     "iopub.status.idle": "2023-07-12T12:30:41.382680Z",
     "shell.execute_reply": "2023-07-12T12:30:41.381519Z"
    },
    "papermill": {
     "duration": 0.052578,
     "end_time": "2023-07-12T12:30:41.385515",
     "exception": false,
     "start_time": "2023-07-12T12:30:41.332937",
     "status": "completed"
    },
    "tags": []
   },
   "outputs": [
    {
     "data": {
      "text/html": [
       "<div>\n",
       "<style scoped>\n",
       "    .dataframe tbody tr th:only-of-type {\n",
       "        vertical-align: middle;\n",
       "    }\n",
       "\n",
       "    .dataframe tbody tr th {\n",
       "        vertical-align: top;\n",
       "    }\n",
       "\n",
       "    .dataframe thead th {\n",
       "        text-align: right;\n",
       "    }\n",
       "</style>\n",
       "<table border=\"1\" class=\"dataframe\">\n",
       "  <thead>\n",
       "    <tr style=\"text-align: right;\">\n",
       "      <th></th>\n",
       "      <th>price</th>\n",
       "      <th>area</th>\n",
       "      <th>bedrooms</th>\n",
       "      <th>bathrooms</th>\n",
       "      <th>stories</th>\n",
       "      <th>mainroad</th>\n",
       "      <th>guestroom</th>\n",
       "      <th>basement</th>\n",
       "      <th>hotwaterheating</th>\n",
       "      <th>airconditioning</th>\n",
       "      <th>parking</th>\n",
       "      <th>prefarea</th>\n",
       "      <th>semi-furnished</th>\n",
       "      <th>unfurnished</th>\n",
       "    </tr>\n",
       "  </thead>\n",
       "  <tbody>\n",
       "    <tr>\n",
       "      <th>359</th>\n",
       "      <td>3710000</td>\n",
       "      <td>3600</td>\n",
       "      <td>3</td>\n",
       "      <td>1</td>\n",
       "      <td>1</td>\n",
       "      <td>1</td>\n",
       "      <td>0</td>\n",
       "      <td>0</td>\n",
       "      <td>0</td>\n",
       "      <td>0</td>\n",
       "      <td>1</td>\n",
       "      <td>0</td>\n",
       "      <td>0</td>\n",
       "      <td>1</td>\n",
       "    </tr>\n",
       "    <tr>\n",
       "      <th>19</th>\n",
       "      <td>8855000</td>\n",
       "      <td>6420</td>\n",
       "      <td>3</td>\n",
       "      <td>2</td>\n",
       "      <td>2</td>\n",
       "      <td>1</td>\n",
       "      <td>0</td>\n",
       "      <td>0</td>\n",
       "      <td>0</td>\n",
       "      <td>1</td>\n",
       "      <td>1</td>\n",
       "      <td>1</td>\n",
       "      <td>1</td>\n",
       "      <td>0</td>\n",
       "    </tr>\n",
       "    <tr>\n",
       "      <th>159</th>\n",
       "      <td>5460000</td>\n",
       "      <td>3150</td>\n",
       "      <td>3</td>\n",
       "      <td>2</td>\n",
       "      <td>1</td>\n",
       "      <td>1</td>\n",
       "      <td>1</td>\n",
       "      <td>1</td>\n",
       "      <td>0</td>\n",
       "      <td>1</td>\n",
       "      <td>0</td>\n",
       "      <td>0</td>\n",
       "      <td>0</td>\n",
       "      <td>0</td>\n",
       "    </tr>\n",
       "    <tr>\n",
       "      <th>35</th>\n",
       "      <td>8080940</td>\n",
       "      <td>7000</td>\n",
       "      <td>3</td>\n",
       "      <td>2</td>\n",
       "      <td>4</td>\n",
       "      <td>1</td>\n",
       "      <td>0</td>\n",
       "      <td>0</td>\n",
       "      <td>0</td>\n",
       "      <td>1</td>\n",
       "      <td>2</td>\n",
       "      <td>0</td>\n",
       "      <td>0</td>\n",
       "      <td>0</td>\n",
       "    </tr>\n",
       "    <tr>\n",
       "      <th>28</th>\n",
       "      <td>8400000</td>\n",
       "      <td>7950</td>\n",
       "      <td>5</td>\n",
       "      <td>2</td>\n",
       "      <td>2</td>\n",
       "      <td>1</td>\n",
       "      <td>0</td>\n",
       "      <td>1</td>\n",
       "      <td>1</td>\n",
       "      <td>0</td>\n",
       "      <td>2</td>\n",
       "      <td>0</td>\n",
       "      <td>0</td>\n",
       "      <td>1</td>\n",
       "    </tr>\n",
       "  </tbody>\n",
       "</table>\n",
       "</div>"
      ],
      "text/plain": [
       "       price  area  bedrooms  bathrooms  stories  mainroad  guestroom  \\\n",
       "359  3710000  3600         3          1        1         1          0   \n",
       "19   8855000  6420         3          2        2         1          0   \n",
       "159  5460000  3150         3          2        1         1          1   \n",
       "35   8080940  7000         3          2        4         1          0   \n",
       "28   8400000  7950         5          2        2         1          0   \n",
       "\n",
       "     basement  hotwaterheating  airconditioning  parking  prefarea  \\\n",
       "359         0                0                0        1         0   \n",
       "19          0                0                1        1         1   \n",
       "159         1                0                1        0         0   \n",
       "35          0                0                1        2         0   \n",
       "28          1                1                0        2         0   \n",
       "\n",
       "     semi-furnished  unfurnished  \n",
       "359               0            1  \n",
       "19                1            0  \n",
       "159               0            0  \n",
       "35                0            0  \n",
       "28                0            1  "
      ]
     },
     "execution_count": 63,
     "metadata": {},
     "output_type": "execute_result"
    }
   ],
   "source": [
    "# Display the first few rows of the training subset\n",
    "df_train.head()"
   ]
  },
  {
   "cell_type": "code",
   "execution_count": 64,
   "id": "532bc588",
   "metadata": {
    "execution": {
     "iopub.execute_input": "2023-07-12T12:30:41.450937Z",
     "iopub.status.busy": "2023-07-12T12:30:41.450500Z",
     "iopub.status.idle": "2023-07-12T12:30:41.460706Z",
     "shell.execute_reply": "2023-07-12T12:30:41.459504Z"
    },
    "papermill": {
     "duration": 0.04627,
     "end_time": "2023-07-12T12:30:41.463328",
     "exception": false,
     "start_time": "2023-07-12T12:30:41.417058",
     "status": "completed"
    },
    "tags": []
   },
   "outputs": [
    {
     "data": {
      "text/plain": [
       "(381, 14)"
      ]
     },
     "execution_count": 64,
     "metadata": {},
     "output_type": "execute_result"
    }
   ],
   "source": [
    "# Checking the shape of training set\n",
    "df_train.shape"
   ]
  },
  {
   "cell_type": "code",
   "execution_count": 65,
   "id": "08eedd68",
   "metadata": {
    "execution": {
     "iopub.execute_input": "2023-07-12T12:30:41.530489Z",
     "iopub.status.busy": "2023-07-12T12:30:41.529759Z",
     "iopub.status.idle": "2023-07-12T12:30:41.546147Z",
     "shell.execute_reply": "2023-07-12T12:30:41.544716Z"
    },
    "papermill": {
     "duration": 0.053297,
     "end_time": "2023-07-12T12:30:41.549161",
     "exception": false,
     "start_time": "2023-07-12T12:30:41.495864",
     "status": "completed"
    },
    "tags": []
   },
   "outputs": [
    {
     "data": {
      "text/html": [
       "<div>\n",
       "<style scoped>\n",
       "    .dataframe tbody tr th:only-of-type {\n",
       "        vertical-align: middle;\n",
       "    }\n",
       "\n",
       "    .dataframe tbody tr th {\n",
       "        vertical-align: top;\n",
       "    }\n",
       "\n",
       "    .dataframe thead th {\n",
       "        text-align: right;\n",
       "    }\n",
       "</style>\n",
       "<table border=\"1\" class=\"dataframe\">\n",
       "  <thead>\n",
       "    <tr style=\"text-align: right;\">\n",
       "      <th></th>\n",
       "      <th>price</th>\n",
       "      <th>area</th>\n",
       "      <th>bedrooms</th>\n",
       "      <th>bathrooms</th>\n",
       "      <th>stories</th>\n",
       "      <th>mainroad</th>\n",
       "      <th>guestroom</th>\n",
       "      <th>basement</th>\n",
       "      <th>hotwaterheating</th>\n",
       "      <th>airconditioning</th>\n",
       "      <th>parking</th>\n",
       "      <th>prefarea</th>\n",
       "      <th>semi-furnished</th>\n",
       "      <th>unfurnished</th>\n",
       "    </tr>\n",
       "  </thead>\n",
       "  <tbody>\n",
       "    <tr>\n",
       "      <th>265</th>\n",
       "      <td>4403000</td>\n",
       "      <td>2880</td>\n",
       "      <td>3</td>\n",
       "      <td>1</td>\n",
       "      <td>2</td>\n",
       "      <td>1</td>\n",
       "      <td>0</td>\n",
       "      <td>0</td>\n",
       "      <td>0</td>\n",
       "      <td>0</td>\n",
       "      <td>0</td>\n",
       "      <td>1</td>\n",
       "      <td>1</td>\n",
       "      <td>0</td>\n",
       "    </tr>\n",
       "    <tr>\n",
       "      <th>54</th>\n",
       "      <td>7350000</td>\n",
       "      <td>6000</td>\n",
       "      <td>3</td>\n",
       "      <td>2</td>\n",
       "      <td>2</td>\n",
       "      <td>1</td>\n",
       "      <td>1</td>\n",
       "      <td>0</td>\n",
       "      <td>0</td>\n",
       "      <td>1</td>\n",
       "      <td>1</td>\n",
       "      <td>0</td>\n",
       "      <td>1</td>\n",
       "      <td>0</td>\n",
       "    </tr>\n",
       "    <tr>\n",
       "      <th>171</th>\n",
       "      <td>5250000</td>\n",
       "      <td>10269</td>\n",
       "      <td>3</td>\n",
       "      <td>1</td>\n",
       "      <td>1</td>\n",
       "      <td>1</td>\n",
       "      <td>0</td>\n",
       "      <td>0</td>\n",
       "      <td>0</td>\n",
       "      <td>0</td>\n",
       "      <td>1</td>\n",
       "      <td>1</td>\n",
       "      <td>1</td>\n",
       "      <td>0</td>\n",
       "    </tr>\n",
       "    <tr>\n",
       "      <th>244</th>\n",
       "      <td>4550000</td>\n",
       "      <td>5320</td>\n",
       "      <td>3</td>\n",
       "      <td>1</td>\n",
       "      <td>2</td>\n",
       "      <td>1</td>\n",
       "      <td>1</td>\n",
       "      <td>1</td>\n",
       "      <td>0</td>\n",
       "      <td>0</td>\n",
       "      <td>0</td>\n",
       "      <td>1</td>\n",
       "      <td>1</td>\n",
       "      <td>0</td>\n",
       "    </tr>\n",
       "    <tr>\n",
       "      <th>268</th>\n",
       "      <td>4382000</td>\n",
       "      <td>4950</td>\n",
       "      <td>4</td>\n",
       "      <td>1</td>\n",
       "      <td>2</td>\n",
       "      <td>1</td>\n",
       "      <td>0</td>\n",
       "      <td>0</td>\n",
       "      <td>0</td>\n",
       "      <td>1</td>\n",
       "      <td>0</td>\n",
       "      <td>0</td>\n",
       "      <td>1</td>\n",
       "      <td>0</td>\n",
       "    </tr>\n",
       "  </tbody>\n",
       "</table>\n",
       "</div>"
      ],
      "text/plain": [
       "       price   area  bedrooms  bathrooms  stories  mainroad  guestroom  \\\n",
       "265  4403000   2880         3          1        2         1          0   \n",
       "54   7350000   6000         3          2        2         1          1   \n",
       "171  5250000  10269         3          1        1         1          0   \n",
       "244  4550000   5320         3          1        2         1          1   \n",
       "268  4382000   4950         4          1        2         1          0   \n",
       "\n",
       "     basement  hotwaterheating  airconditioning  parking  prefarea  \\\n",
       "265         0                0                0        0         1   \n",
       "54          0                0                1        1         0   \n",
       "171         0                0                0        1         1   \n",
       "244         1                0                0        0         1   \n",
       "268         0                0                1        0         0   \n",
       "\n",
       "     semi-furnished  unfurnished  \n",
       "265               1            0  \n",
       "54                1            0  \n",
       "171               1            0  \n",
       "244               1            0  \n",
       "268               1            0  "
      ]
     },
     "execution_count": 65,
     "metadata": {},
     "output_type": "execute_result"
    }
   ],
   "source": [
    "# Display the first few rows of the testing subset\n",
    "df_test.head()"
   ]
  },
  {
   "cell_type": "code",
   "execution_count": 66,
   "id": "b774c82b",
   "metadata": {
    "execution": {
     "iopub.execute_input": "2023-07-12T12:30:41.615953Z",
     "iopub.status.busy": "2023-07-12T12:30:41.615542Z",
     "iopub.status.idle": "2023-07-12T12:30:41.623034Z",
     "shell.execute_reply": "2023-07-12T12:30:41.621597Z"
    },
    "papermill": {
     "duration": 0.04393,
     "end_time": "2023-07-12T12:30:41.625699",
     "exception": false,
     "start_time": "2023-07-12T12:30:41.581769",
     "status": "completed"
    },
    "tags": []
   },
   "outputs": [
    {
     "data": {
      "text/plain": [
       "(164, 14)"
      ]
     },
     "execution_count": 66,
     "metadata": {},
     "output_type": "execute_result"
    }
   ],
   "source": [
    "# Checking the shape of training set\n",
    "df_test.shape"
   ]
  },
  {
   "cell_type": "markdown",
   "id": "fe6b7d02",
   "metadata": {
    "papermill": {
     "duration": 0.032081,
     "end_time": "2023-07-12T12:30:41.690005",
     "exception": false,
     "start_time": "2023-07-12T12:30:41.657924",
     "status": "completed"
    },
    "tags": []
   },
   "source": [
    "# **Scaling Training Data: MinMaxScaler**\n",
    "\n",
    "#### **Why to scale our data?**\n",
    "\n",
    "1. **Equal Treatment of Features:** Scaling ensures that all features are treated equally, no matter their size or units. This prevents one feature from overshadowing others just because it has larger values.\n",
    "\n",
    "2. **Avoid Biased Results:** Without scaling, algorithms might wrongly emphasize features with larger values, leading to skewed or incorrect predictions.\n",
    "\n",
    "3. **Sensitive Algorithms:** Some algorithms (like linear regression, logistic regression, and k-nearest neighbors) are sensitive to unscaled data. Scaling helps these algorithms work properly and make more accurate predictions.\n",
    "\n",
    "4. **Faster Optimization:** Scaling speeds up the process of finding the best model parameters. With scaled data, optimization algorithms converge more quickly to the optimal solution.\n",
    "\n",
    "5. **Fair Distance Calculations:** Algorithms that use distances, such as k-means clustering or k-nearest neighbors, can be biased if features have different scales. Scaling ensures all features contribute fairly to distance calculations."
   ]
  },
  {
   "cell_type": "code",
   "execution_count": 67,
   "id": "8f233489",
   "metadata": {
    "execution": {
     "iopub.execute_input": "2023-07-12T12:30:41.756841Z",
     "iopub.status.busy": "2023-07-12T12:30:41.756440Z",
     "iopub.status.idle": "2023-07-12T12:30:41.761587Z",
     "shell.execute_reply": "2023-07-12T12:30:41.760213Z"
    },
    "papermill": {
     "duration": 0.042045,
     "end_time": "2023-07-12T12:30:41.764146",
     "exception": false,
     "start_time": "2023-07-12T12:30:41.722101",
     "status": "completed"
    },
    "tags": []
   },
   "outputs": [],
   "source": [
    "# Creating an instance of the MinMaxScaler\n",
    "scaler = MinMaxScaler()"
   ]
  },
  {
   "cell_type": "code",
   "execution_count": 68,
   "id": "6910573a",
   "metadata": {
    "execution": {
     "iopub.execute_input": "2023-07-12T12:30:41.832083Z",
     "iopub.status.busy": "2023-07-12T12:30:41.831633Z",
     "iopub.status.idle": "2023-07-12T12:30:41.837578Z",
     "shell.execute_reply": "2023-07-12T12:30:41.836335Z"
    },
    "papermill": {
     "duration": 0.043761,
     "end_time": "2023-07-12T12:30:41.839969",
     "exception": false,
     "start_time": "2023-07-12T12:30:41.796208",
     "status": "completed"
    },
    "tags": []
   },
   "outputs": [],
   "source": [
    "# List of columns to scale\n",
    "col_to_scale = ['area', 'bedrooms', 'bathrooms', 'stories', 'parking', 'price']"
   ]
  },
  {
   "cell_type": "code",
   "execution_count": 69,
   "id": "6b5977d3",
   "metadata": {
    "execution": {
     "iopub.execute_input": "2023-07-12T12:30:41.909003Z",
     "iopub.status.busy": "2023-07-12T12:30:41.908071Z",
     "iopub.status.idle": "2023-07-12T12:30:41.921177Z",
     "shell.execute_reply": "2023-07-12T12:30:41.919948Z"
    },
    "papermill": {
     "duration": 0.051052,
     "end_time": "2023-07-12T12:30:41.923795",
     "exception": false,
     "start_time": "2023-07-12T12:30:41.872743",
     "status": "completed"
    },
    "tags": []
   },
   "outputs": [],
   "source": [
    "# Scaling the specified columns in the training subset using the MinMaxScaler\n",
    "df_train[col_to_scale] = scaler.fit_transform(df_train[col_to_scale])"
   ]
  },
  {
   "cell_type": "code",
   "execution_count": 70,
   "id": "e52908cc",
   "metadata": {
    "execution": {
     "iopub.execute_input": "2023-07-12T12:30:41.990528Z",
     "iopub.status.busy": "2023-07-12T12:30:41.989925Z",
     "iopub.status.idle": "2023-07-12T12:30:42.013182Z",
     "shell.execute_reply": "2023-07-12T12:30:42.011624Z"
    },
    "papermill": {
     "duration": 0.059866,
     "end_time": "2023-07-12T12:30:42.015911",
     "exception": false,
     "start_time": "2023-07-12T12:30:41.956045",
     "status": "completed"
    },
    "tags": []
   },
   "outputs": [
    {
     "data": {
      "text/html": [
       "<div>\n",
       "<style scoped>\n",
       "    .dataframe tbody tr th:only-of-type {\n",
       "        vertical-align: middle;\n",
       "    }\n",
       "\n",
       "    .dataframe tbody tr th {\n",
       "        vertical-align: top;\n",
       "    }\n",
       "\n",
       "    .dataframe thead th {\n",
       "        text-align: right;\n",
       "    }\n",
       "</style>\n",
       "<table border=\"1\" class=\"dataframe\">\n",
       "  <thead>\n",
       "    <tr style=\"text-align: right;\">\n",
       "      <th></th>\n",
       "      <th>price</th>\n",
       "      <th>area</th>\n",
       "      <th>bedrooms</th>\n",
       "      <th>bathrooms</th>\n",
       "      <th>stories</th>\n",
       "      <th>mainroad</th>\n",
       "      <th>guestroom</th>\n",
       "      <th>basement</th>\n",
       "      <th>hotwaterheating</th>\n",
       "      <th>airconditioning</th>\n",
       "      <th>parking</th>\n",
       "      <th>prefarea</th>\n",
       "      <th>semi-furnished</th>\n",
       "      <th>unfurnished</th>\n",
       "    </tr>\n",
       "  </thead>\n",
       "  <tbody>\n",
       "    <tr>\n",
       "      <th>359</th>\n",
       "      <td>0.169697</td>\n",
       "      <td>0.155227</td>\n",
       "      <td>0.4</td>\n",
       "      <td>0.0</td>\n",
       "      <td>0.000000</td>\n",
       "      <td>1</td>\n",
       "      <td>0</td>\n",
       "      <td>0</td>\n",
       "      <td>0</td>\n",
       "      <td>0</td>\n",
       "      <td>0.333333</td>\n",
       "      <td>0</td>\n",
       "      <td>0</td>\n",
       "      <td>1</td>\n",
       "    </tr>\n",
       "    <tr>\n",
       "      <th>19</th>\n",
       "      <td>0.615152</td>\n",
       "      <td>0.403379</td>\n",
       "      <td>0.4</td>\n",
       "      <td>0.5</td>\n",
       "      <td>0.333333</td>\n",
       "      <td>1</td>\n",
       "      <td>0</td>\n",
       "      <td>0</td>\n",
       "      <td>0</td>\n",
       "      <td>1</td>\n",
       "      <td>0.333333</td>\n",
       "      <td>1</td>\n",
       "      <td>1</td>\n",
       "      <td>0</td>\n",
       "    </tr>\n",
       "    <tr>\n",
       "      <th>159</th>\n",
       "      <td>0.321212</td>\n",
       "      <td>0.115628</td>\n",
       "      <td>0.4</td>\n",
       "      <td>0.5</td>\n",
       "      <td>0.000000</td>\n",
       "      <td>1</td>\n",
       "      <td>1</td>\n",
       "      <td>1</td>\n",
       "      <td>0</td>\n",
       "      <td>1</td>\n",
       "      <td>0.000000</td>\n",
       "      <td>0</td>\n",
       "      <td>0</td>\n",
       "      <td>0</td>\n",
       "    </tr>\n",
       "    <tr>\n",
       "      <th>35</th>\n",
       "      <td>0.548133</td>\n",
       "      <td>0.454417</td>\n",
       "      <td>0.4</td>\n",
       "      <td>0.5</td>\n",
       "      <td>1.000000</td>\n",
       "      <td>1</td>\n",
       "      <td>0</td>\n",
       "      <td>0</td>\n",
       "      <td>0</td>\n",
       "      <td>1</td>\n",
       "      <td>0.666667</td>\n",
       "      <td>0</td>\n",
       "      <td>0</td>\n",
       "      <td>0</td>\n",
       "    </tr>\n",
       "    <tr>\n",
       "      <th>28</th>\n",
       "      <td>0.575758</td>\n",
       "      <td>0.538015</td>\n",
       "      <td>0.8</td>\n",
       "      <td>0.5</td>\n",
       "      <td>0.333333</td>\n",
       "      <td>1</td>\n",
       "      <td>0</td>\n",
       "      <td>1</td>\n",
       "      <td>1</td>\n",
       "      <td>0</td>\n",
       "      <td>0.666667</td>\n",
       "      <td>0</td>\n",
       "      <td>0</td>\n",
       "      <td>1</td>\n",
       "    </tr>\n",
       "  </tbody>\n",
       "</table>\n",
       "</div>"
      ],
      "text/plain": [
       "        price      area  bedrooms  bathrooms   stories  mainroad  guestroom  \\\n",
       "359  0.169697  0.155227       0.4        0.0  0.000000         1          0   \n",
       "19   0.615152  0.403379       0.4        0.5  0.333333         1          0   \n",
       "159  0.321212  0.115628       0.4        0.5  0.000000         1          1   \n",
       "35   0.548133  0.454417       0.4        0.5  1.000000         1          0   \n",
       "28   0.575758  0.538015       0.8        0.5  0.333333         1          0   \n",
       "\n",
       "     basement  hotwaterheating  airconditioning   parking  prefarea  \\\n",
       "359         0                0                0  0.333333         0   \n",
       "19          0                0                1  0.333333         1   \n",
       "159         1                0                1  0.000000         0   \n",
       "35          0                0                1  0.666667         0   \n",
       "28          1                1                0  0.666667         0   \n",
       "\n",
       "     semi-furnished  unfurnished  \n",
       "359               0            1  \n",
       "19                1            0  \n",
       "159               0            0  \n",
       "35                0            0  \n",
       "28                0            1  "
      ]
     },
     "execution_count": 70,
     "metadata": {},
     "output_type": "execute_result"
    }
   ],
   "source": [
    "# Displaying the training subset\n",
    "df_train.head()"
   ]
  },
  {
   "cell_type": "markdown",
   "id": "6a5f349b",
   "metadata": {
    "papermill": {
     "duration": 0.033169,
     "end_time": "2023-07-12T12:30:42.150426",
     "exception": false,
     "start_time": "2023-07-12T12:30:42.117257",
     "status": "completed"
    },
    "tags": []
   },
   "source": [
    "# **Training the model**"
   ]
  },
  {
   "cell_type": "code",
   "execution_count": 71,
   "id": "1dcdd4e6",
   "metadata": {
    "execution": {
     "iopub.execute_input": "2023-07-12T12:30:42.220035Z",
     "iopub.status.busy": "2023-07-12T12:30:42.218891Z",
     "iopub.status.idle": "2023-07-12T12:30:42.225707Z",
     "shell.execute_reply": "2023-07-12T12:30:42.224247Z"
    },
    "papermill": {
     "duration": 0.044696,
     "end_time": "2023-07-12T12:30:42.228537",
     "exception": false,
     "start_time": "2023-07-12T12:30:42.183841",
     "status": "completed"
    },
    "tags": []
   },
   "outputs": [],
   "source": [
    "# Separate the target variable from the training subset\n",
    "y_train = df_train.pop('price')\n",
    "\n",
    "# Extract the remaining features as the training data\n",
    "x_train = df_train"
   ]
  },
  {
   "cell_type": "code",
   "execution_count": 72,
   "id": "49c42538",
   "metadata": {
    "execution": {
     "iopub.execute_input": "2023-07-12T12:30:42.299271Z",
     "iopub.status.busy": "2023-07-12T12:30:42.298841Z",
     "iopub.status.idle": "2023-07-12T12:30:42.308004Z",
     "shell.execute_reply": "2023-07-12T12:30:42.306751Z"
    },
    "papermill": {
     "duration": 0.047831,
     "end_time": "2023-07-12T12:30:42.310548",
     "exception": false,
     "start_time": "2023-07-12T12:30:42.262717",
     "status": "completed"
    },
    "tags": []
   },
   "outputs": [
    {
     "data": {
      "text/plain": [
       "359    0.169697\n",
       "19     0.615152\n",
       "159    0.321212\n",
       "35     0.548133\n",
       "28     0.575758\n",
       "Name: price, dtype: float64"
      ]
     },
     "execution_count": 72,
     "metadata": {},
     "output_type": "execute_result"
    }
   ],
   "source": [
    "# To display the first few rows of the target variable in the training subset\n",
    "y_train.head()"
   ]
  },
  {
   "cell_type": "code",
   "execution_count": 73,
   "id": "587a21a5",
   "metadata": {
    "execution": {
     "iopub.execute_input": "2023-07-12T12:30:42.379504Z",
     "iopub.status.busy": "2023-07-12T12:30:42.379033Z",
     "iopub.status.idle": "2023-07-12T12:30:42.385021Z",
     "shell.execute_reply": "2023-07-12T12:30:42.383660Z"
    },
    "papermill": {
     "duration": 0.043372,
     "end_time": "2023-07-12T12:30:42.387849",
     "exception": false,
     "start_time": "2023-07-12T12:30:42.344477",
     "status": "completed"
    },
    "tags": []
   },
   "outputs": [],
   "source": [
    "# Creating an instance of LinearRegression\n",
    "linear_regression = LinearRegression()"
   ]
  },
  {
   "cell_type": "code",
   "execution_count": 74,
   "id": "1b79ac4a",
   "metadata": {
    "execution": {
     "iopub.execute_input": "2023-07-12T12:30:42.456033Z",
     "iopub.status.busy": "2023-07-12T12:30:42.455586Z",
     "iopub.status.idle": "2023-07-12T12:30:42.493016Z",
     "shell.execute_reply": "2023-07-12T12:30:42.491656Z"
    },
    "papermill": {
     "duration": 0.074587,
     "end_time": "2023-07-12T12:30:42.495579",
     "exception": false,
     "start_time": "2023-07-12T12:30:42.420992",
     "status": "completed"
    },
    "tags": []
   },
   "outputs": [
    {
     "data": {
      "text/html": [
       "<style>#sk-container-id-1 {color: black;}#sk-container-id-1 pre{padding: 0;}#sk-container-id-1 div.sk-toggleable {background-color: white;}#sk-container-id-1 label.sk-toggleable__label {cursor: pointer;display: block;width: 100%;margin-bottom: 0;padding: 0.3em;box-sizing: border-box;text-align: center;}#sk-container-id-1 label.sk-toggleable__label-arrow:before {content: \"▸\";float: left;margin-right: 0.25em;color: #696969;}#sk-container-id-1 label.sk-toggleable__label-arrow:hover:before {color: black;}#sk-container-id-1 div.sk-estimator:hover label.sk-toggleable__label-arrow:before {color: black;}#sk-container-id-1 div.sk-toggleable__content {max-height: 0;max-width: 0;overflow: hidden;text-align: left;background-color: #f0f8ff;}#sk-container-id-1 div.sk-toggleable__content pre {margin: 0.2em;color: black;border-radius: 0.25em;background-color: #f0f8ff;}#sk-container-id-1 input.sk-toggleable__control:checked~div.sk-toggleable__content {max-height: 200px;max-width: 100%;overflow: auto;}#sk-container-id-1 input.sk-toggleable__control:checked~label.sk-toggleable__label-arrow:before {content: \"▾\";}#sk-container-id-1 div.sk-estimator input.sk-toggleable__control:checked~label.sk-toggleable__label {background-color: #d4ebff;}#sk-container-id-1 div.sk-label input.sk-toggleable__control:checked~label.sk-toggleable__label {background-color: #d4ebff;}#sk-container-id-1 input.sk-hidden--visually {border: 0;clip: rect(1px 1px 1px 1px);clip: rect(1px, 1px, 1px, 1px);height: 1px;margin: -1px;overflow: hidden;padding: 0;position: absolute;width: 1px;}#sk-container-id-1 div.sk-estimator {font-family: monospace;background-color: #f0f8ff;border: 1px dotted black;border-radius: 0.25em;box-sizing: border-box;margin-bottom: 0.5em;}#sk-container-id-1 div.sk-estimator:hover {background-color: #d4ebff;}#sk-container-id-1 div.sk-parallel-item::after {content: \"\";width: 100%;border-bottom: 1px solid gray;flex-grow: 1;}#sk-container-id-1 div.sk-label:hover label.sk-toggleable__label {background-color: #d4ebff;}#sk-container-id-1 div.sk-serial::before {content: \"\";position: absolute;border-left: 1px solid gray;box-sizing: border-box;top: 0;bottom: 0;left: 50%;z-index: 0;}#sk-container-id-1 div.sk-serial {display: flex;flex-direction: column;align-items: center;background-color: white;padding-right: 0.2em;padding-left: 0.2em;position: relative;}#sk-container-id-1 div.sk-item {position: relative;z-index: 1;}#sk-container-id-1 div.sk-parallel {display: flex;align-items: stretch;justify-content: center;background-color: white;position: relative;}#sk-container-id-1 div.sk-item::before, #sk-container-id-1 div.sk-parallel-item::before {content: \"\";position: absolute;border-left: 1px solid gray;box-sizing: border-box;top: 0;bottom: 0;left: 50%;z-index: -1;}#sk-container-id-1 div.sk-parallel-item {display: flex;flex-direction: column;z-index: 1;position: relative;background-color: white;}#sk-container-id-1 div.sk-parallel-item:first-child::after {align-self: flex-end;width: 50%;}#sk-container-id-1 div.sk-parallel-item:last-child::after {align-self: flex-start;width: 50%;}#sk-container-id-1 div.sk-parallel-item:only-child::after {width: 0;}#sk-container-id-1 div.sk-dashed-wrapped {border: 1px dashed gray;margin: 0 0.4em 0.5em 0.4em;box-sizing: border-box;padding-bottom: 0.4em;background-color: white;}#sk-container-id-1 div.sk-label label {font-family: monospace;font-weight: bold;display: inline-block;line-height: 1.2em;}#sk-container-id-1 div.sk-label-container {text-align: center;}#sk-container-id-1 div.sk-container {/* jupyter's `normalize.less` sets `[hidden] { display: none; }` but bootstrap.min.css set `[hidden] { display: none !important; }` so we also need the `!important` here to be able to override the default hidden behavior on the sphinx rendered scikit-learn.org. See: https://github.com/scikit-learn/scikit-learn/issues/21755 */display: inline-block !important;position: relative;}#sk-container-id-1 div.sk-text-repr-fallback {display: none;}</style><div id=\"sk-container-id-1\" class=\"sk-top-container\"><div class=\"sk-text-repr-fallback\"><pre>LinearRegression()</pre><b>In a Jupyter environment, please rerun this cell to show the HTML representation or trust the notebook. <br />On GitHub, the HTML representation is unable to render, please try loading this page with nbviewer.org.</b></div><div class=\"sk-container\" hidden><div class=\"sk-item\"><div class=\"sk-estimator sk-toggleable\"><input class=\"sk-toggleable__control sk-hidden--visually\" id=\"sk-estimator-id-1\" type=\"checkbox\" checked><label for=\"sk-estimator-id-1\" class=\"sk-toggleable__label sk-toggleable__label-arrow\">LinearRegression</label><div class=\"sk-toggleable__content\"><pre>LinearRegression()</pre></div></div></div></div></div>"
      ],
      "text/plain": [
       "LinearRegression()"
      ]
     },
     "execution_count": 74,
     "metadata": {},
     "output_type": "execute_result"
    }
   ],
   "source": [
    "# Fitting the Linear Regression model to the training data\n",
    "linear_regression.fit(x_train, y_train)"
   ]
  },
  {
   "cell_type": "code",
   "execution_count": 75,
   "id": "ee61c0f9",
   "metadata": {
    "execution": {
     "iopub.execute_input": "2023-07-12T12:30:42.566823Z",
     "iopub.status.busy": "2023-07-12T12:30:42.566350Z",
     "iopub.status.idle": "2023-07-12T12:30:42.573835Z",
     "shell.execute_reply": "2023-07-12T12:30:42.572317Z"
    },
    "papermill": {
     "duration": 0.045927,
     "end_time": "2023-07-12T12:30:42.576606",
     "exception": false,
     "start_time": "2023-07-12T12:30:42.530679",
     "status": "completed"
    },
    "tags": []
   },
   "outputs": [
    {
     "name": "stdout",
     "output_type": "stream",
     "text": [
      "[ 0.23466354  0.04673453  0.19082319  0.10851563  0.05044144  0.03042826\n",
      "  0.02159488  0.08486327  0.06688093  0.06073533  0.05942788  0.00092052\n",
      " -0.03100561]\n"
     ]
    }
   ],
   "source": [
    "# Retrieve the coefficients of the Linear Regression model\n",
    "coefficients = linear_regression.coef_\n",
    "\n",
    "# Print the coefficients\n",
    "print(coefficients)"
   ]
  },
  {
   "cell_type": "code",
   "execution_count": 76,
   "id": "6917b358",
   "metadata": {
    "execution": {
     "iopub.execute_input": "2023-07-12T12:30:42.647339Z",
     "iopub.status.busy": "2023-07-12T12:30:42.646867Z",
     "iopub.status.idle": "2023-07-12T12:30:42.657505Z",
     "shell.execute_reply": "2023-07-12T12:30:42.656220Z"
    },
    "papermill": {
     "duration": 0.048442,
     "end_time": "2023-07-12T12:30:42.659827",
     "exception": false,
     "start_time": "2023-07-12T12:30:42.611385",
     "status": "completed"
    },
    "tags": []
   },
   "outputs": [
    {
     "name": "stdout",
     "output_type": "stream",
     "text": [
      "0.6814893088451202\n"
     ]
    }
   ],
   "source": [
    "# Calculate the coefficient of determination (R²) for the Linear Regression model on the training data\n",
    "score = linear_regression.score(x_train, y_train)\n",
    "\n",
    "# Print the coefficient of determination (R²)\n",
    "print(score)"
   ]
  },
  {
   "cell_type": "markdown",
   "id": "48ca4f61",
   "metadata": {
    "papermill": {
     "duration": 0.035765,
     "end_time": "2023-07-12T12:30:42.729530",
     "exception": false,
     "start_time": "2023-07-12T12:30:42.693765",
     "status": "completed"
    },
    "tags": []
   },
   "source": [
    "# **Scaling Test Data: MinMaxScaler**\n",
    "\n",
    "MinMaxScaler is a data transformation technique that scales numerical features to a specific range, usually between 0 and 1. It works by subtracting the minimum value of the feature from each data point and then dividing the result by the range (difference between the maximum and minimum values). \n",
    "\n",
    "#### **Why to scale our data?**\n",
    "\n",
    "1. **Equal Treatment of Features:** Scaling ensures that all features are treated equally, no matter their size or units. This prevents one feature from overshadowing others just because it has larger values.\n",
    "\n",
    "2. **Avoid Biased Results:** Without scaling, algorithms might wrongly emphasize features with larger values, leading to skewed or incorrect predictions.\n",
    "\n",
    "3. **Sensitive Algorithms:** Some algorithms (like linear regression, logistic regression, and k-nearest neighbors) are sensitive to unscaled data. Scaling helps these algorithms work properly and make more accurate predictions.\n",
    "\n",
    "4. **Faster Optimization:** Scaling speeds up the process of finding the best model parameters. With scaled data, optimization algorithms converge more quickly to the optimal solution.\n",
    "\n",
    "5. **Fair Distance Calculations:** Algorithms that use distances, such as k-means clustering or k-nearest neighbors, can be biased if features have different scales. Scaling ensures all features contribute fairly to distance calculations."
   ]
  },
  {
   "cell_type": "code",
   "execution_count": 77,
   "id": "70a2c217",
   "metadata": {
    "execution": {
     "iopub.execute_input": "2023-07-12T12:30:42.801090Z",
     "iopub.status.busy": "2023-07-12T12:30:42.800630Z",
     "iopub.status.idle": "2023-07-12T12:30:42.805656Z",
     "shell.execute_reply": "2023-07-12T12:30:42.804721Z"
    },
    "papermill": {
     "duration": 0.043794,
     "end_time": "2023-07-12T12:30:42.807731",
     "exception": false,
     "start_time": "2023-07-12T12:30:42.763937",
     "status": "completed"
    },
    "tags": []
   },
   "outputs": [],
   "source": [
    "# List of columns to scale\n",
    "col_to_scale = ['area', 'bedrooms', 'bathrooms', 'stories', 'parking','price']"
   ]
  },
  {
   "cell_type": "code",
   "execution_count": 78,
   "id": "68f33245",
   "metadata": {
    "execution": {
     "iopub.execute_input": "2023-07-12T12:30:42.880510Z",
     "iopub.status.busy": "2023-07-12T12:30:42.880088Z",
     "iopub.status.idle": "2023-07-12T12:30:42.891635Z",
     "shell.execute_reply": "2023-07-12T12:30:42.890364Z"
    },
    "papermill": {
     "duration": 0.050479,
     "end_time": "2023-07-12T12:30:42.894588",
     "exception": false,
     "start_time": "2023-07-12T12:30:42.844109",
     "status": "completed"
    },
    "tags": []
   },
   "outputs": [],
   "source": [
    "# Scaling the specified columns in the testing subset using the MinMaxScaler\n",
    "df_test[col_to_scale] = scaler.fit_transform(df_test[col_to_scale])"
   ]
  },
  {
   "cell_type": "markdown",
   "id": "0f340ca0",
   "metadata": {
    "papermill": {
     "duration": 0.033721,
     "end_time": "2023-07-12T12:30:42.963204",
     "exception": false,
     "start_time": "2023-07-12T12:30:42.929483",
     "status": "completed"
    },
    "tags": []
   },
   "source": [
    "# **Testing our model**"
   ]
  },
  {
   "cell_type": "code",
   "execution_count": 79,
   "id": "d72a5abf",
   "metadata": {
    "execution": {
     "iopub.execute_input": "2023-07-12T12:30:43.039100Z",
     "iopub.status.busy": "2023-07-12T12:30:43.038662Z",
     "iopub.status.idle": "2023-07-12T12:30:43.045437Z",
     "shell.execute_reply": "2023-07-12T12:30:43.044197Z"
    },
    "papermill": {
     "duration": 0.0502,
     "end_time": "2023-07-12T12:30:43.047729",
     "exception": false,
     "start_time": "2023-07-12T12:30:42.997529",
     "status": "completed"
    },
    "tags": []
   },
   "outputs": [],
   "source": [
    "# Separate the target variable from the testing subset\n",
    "y_test = df_test.pop('price')\n",
    "\n",
    "# Extract the remaining features as the testing data\n",
    "x_test = df_test"
   ]
  },
  {
   "cell_type": "code",
   "execution_count": 80,
   "id": "5d82cadc",
   "metadata": {
    "execution": {
     "iopub.execute_input": "2023-07-12T12:30:43.119485Z",
     "iopub.status.busy": "2023-07-12T12:30:43.118445Z",
     "iopub.status.idle": "2023-07-12T12:30:43.127654Z",
     "shell.execute_reply": "2023-07-12T12:30:43.126176Z"
    },
    "papermill": {
     "duration": 0.047911,
     "end_time": "2023-07-12T12:30:43.130426",
     "exception": false,
     "start_time": "2023-07-12T12:30:43.082515",
     "status": "completed"
    },
    "tags": []
   },
   "outputs": [],
   "source": [
    "# Make predictions on the testing data using the trained Linear Regression model\n",
    "prediction = linear_regression.predict(x_test)"
   ]
  },
  {
   "cell_type": "markdown",
   "id": "3bf80fbe",
   "metadata": {
    "papermill": {
     "duration": 0.036142,
     "end_time": "2023-07-12T12:30:43.205731",
     "exception": false,
     "start_time": "2023-07-12T12:30:43.169589",
     "status": "completed"
    },
    "tags": []
   },
   "source": [
    "### **Checking R squared value**"
   ]
  },
  {
   "cell_type": "code",
   "execution_count": 81,
   "id": "7572649b",
   "metadata": {
    "execution": {
     "iopub.execute_input": "2023-07-12T12:30:43.279725Z",
     "iopub.status.busy": "2023-07-12T12:30:43.279273Z",
     "iopub.status.idle": "2023-07-12T12:30:43.286191Z",
     "shell.execute_reply": "2023-07-12T12:30:43.284959Z"
    },
    "papermill": {
     "duration": 0.046177,
     "end_time": "2023-07-12T12:30:43.288542",
     "exception": false,
     "start_time": "2023-07-12T12:30:43.242365",
     "status": "completed"
    },
    "tags": []
   },
   "outputs": [],
   "source": [
    "# Calculate the coefficient of determination (R²) for the predictions\n",
    "r2 = r2_score(y_test, prediction)"
   ]
  },
  {
   "cell_type": "markdown",
   "id": "11ca9d6f",
   "metadata": {
    "papermill": {
     "duration": 0.034945,
     "end_time": "2023-07-12T12:30:43.358455",
     "exception": false,
     "start_time": "2023-07-12T12:30:43.323510",
     "status": "completed"
    },
    "tags": []
   },
   "source": [
    "# **Comparing the actual and predicted values**"
   ]
  },
  {
   "cell_type": "code",
   "execution_count": 86,
   "id": "607b3c68",
   "metadata": {
    "execution": {
     "iopub.execute_input": "2023-07-12T12:30:43.429254Z",
     "iopub.status.busy": "2023-07-12T12:30:43.428806Z",
     "iopub.status.idle": "2023-07-12T12:30:43.434635Z",
     "shell.execute_reply": "2023-07-12T12:30:43.433380Z"
    },
    "papermill": {
     "duration": 0.044311,
     "end_time": "2023-07-12T12:30:43.436962",
     "exception": false,
     "start_time": "2023-07-12T12:30:43.392651",
     "status": "completed"
    },
    "tags": []
   },
   "outputs": [],
   "source": [
    "# Get the shape of y_test\n",
    "y_test.shape\n",
    "\n",
    "# Reshape y_test to a matrix with a single column\n",
    "y_test_matrix = y_test.values.reshape(-1, 1)"
   ]
  },
  {
   "cell_type": "code",
   "execution_count": 87,
   "id": "9581fc5d",
   "metadata": {
    "execution": {
     "iopub.execute_input": "2023-07-12T12:30:43.508632Z",
     "iopub.status.busy": "2023-07-12T12:30:43.508169Z",
     "iopub.status.idle": "2023-07-12T12:30:43.514326Z",
     "shell.execute_reply": "2023-07-12T12:30:43.513031Z"
    },
    "papermill": {
     "duration": 0.044661,
     "end_time": "2023-07-12T12:30:43.516697",
     "exception": false,
     "start_time": "2023-07-12T12:30:43.472036",
     "status": "completed"
    },
    "tags": []
   },
   "outputs": [],
   "source": [
    "# Creating a DataFrame with actual and predicted values\n",
    "data_frame = pd.DataFrame({'actual': y_test_matrix.flatten(), 'predicted': prediction.flatten()})"
   ]
  },
  {
   "cell_type": "code",
   "execution_count": 88,
   "id": "14867357",
   "metadata": {
    "execution": {
     "iopub.execute_input": "2023-07-12T12:30:43.588745Z",
     "iopub.status.busy": "2023-07-12T12:30:43.588317Z",
     "iopub.status.idle": "2023-07-12T12:30:43.600374Z",
     "shell.execute_reply": "2023-07-12T12:30:43.599400Z"
    },
    "papermill": {
     "duration": 0.051128,
     "end_time": "2023-07-12T12:30:43.602785",
     "exception": false,
     "start_time": "2023-07-12T12:30:43.551657",
     "status": "completed"
    },
    "tags": []
   },
   "outputs": [
    {
     "data": {
      "text/html": [
       "<div>\n",
       "<style scoped>\n",
       "    .dataframe tbody tr th:only-of-type {\n",
       "        vertical-align: middle;\n",
       "    }\n",
       "\n",
       "    .dataframe tbody tr th {\n",
       "        vertical-align: top;\n",
       "    }\n",
       "\n",
       "    .dataframe thead th {\n",
       "        text-align: right;\n",
       "    }\n",
       "</style>\n",
       "<table border=\"1\" class=\"dataframe\">\n",
       "  <thead>\n",
       "    <tr style=\"text-align: right;\">\n",
       "      <th></th>\n",
       "      <th>actual</th>\n",
       "      <th>predicted</th>\n",
       "    </tr>\n",
       "  </thead>\n",
       "  <tbody>\n",
       "    <tr>\n",
       "      <th>0</th>\n",
       "      <td>0.247651</td>\n",
       "      <td>0.202410</td>\n",
       "    </tr>\n",
       "    <tr>\n",
       "      <th>1</th>\n",
       "      <td>0.530201</td>\n",
       "      <td>0.374464</td>\n",
       "    </tr>\n",
       "    <tr>\n",
       "      <th>2</th>\n",
       "      <td>0.328859</td>\n",
       "      <td>0.305654</td>\n",
       "    </tr>\n",
       "    <tr>\n",
       "      <th>3</th>\n",
       "      <td>0.261745</td>\n",
       "      <td>0.293786</td>\n",
       "    </tr>\n",
       "    <tr>\n",
       "      <th>4</th>\n",
       "      <td>0.245638</td>\n",
       "      <td>0.258827</td>\n",
       "    </tr>\n",
       "    <tr>\n",
       "      <th>5</th>\n",
       "      <td>0.275168</td>\n",
       "      <td>0.189463</td>\n",
       "    </tr>\n",
       "    <tr>\n",
       "      <th>6</th>\n",
       "      <td>0.644295</td>\n",
       "      <td>0.499099</td>\n",
       "    </tr>\n",
       "    <tr>\n",
       "      <th>7</th>\n",
       "      <td>0.328859</td>\n",
       "      <td>0.297637</td>\n",
       "    </tr>\n",
       "    <tr>\n",
       "      <th>8</th>\n",
       "      <td>0.087248</td>\n",
       "      <td>0.122528</td>\n",
       "    </tr>\n",
       "    <tr>\n",
       "      <th>9</th>\n",
       "      <td>0.395973</td>\n",
       "      <td>0.316860</td>\n",
       "    </tr>\n",
       "  </tbody>\n",
       "</table>\n",
       "</div>"
      ],
      "text/plain": [
       "     actual  predicted\n",
       "0  0.247651   0.202410\n",
       "1  0.530201   0.374464\n",
       "2  0.328859   0.305654\n",
       "3  0.261745   0.293786\n",
       "4  0.245638   0.258827\n",
       "5  0.275168   0.189463\n",
       "6  0.644295   0.499099\n",
       "7  0.328859   0.297637\n",
       "8  0.087248   0.122528\n",
       "9  0.395973   0.316860"
      ]
     },
     "execution_count": 88,
     "metadata": {},
     "output_type": "execute_result"
    }
   ],
   "source": [
    "# Display the first 10 rows of the DataFrame\n",
    "data_frame.head(10)"
   ]
  },
  {
   "cell_type": "markdown",
   "id": "d3e7efcb",
   "metadata": {
    "papermill": {
     "duration": 0.035063,
     "end_time": "2023-07-12T12:30:43.672614",
     "exception": false,
     "start_time": "2023-07-12T12:30:43.637551",
     "status": "completed"
    },
    "tags": []
   },
   "source": [
    "### **Plotting the Graph**"
   ]
  },
  {
   "cell_type": "code",
   "execution_count": 85,
   "id": "0a15d743",
   "metadata": {
    "execution": {
     "iopub.execute_input": "2023-07-12T12:30:43.744322Z",
     "iopub.status.busy": "2023-07-12T12:30:43.743837Z",
     "iopub.status.idle": "2023-07-12T12:30:44.127642Z",
     "shell.execute_reply": "2023-07-12T12:30:44.126240Z"
    },
    "papermill": {
     "duration": 0.424165,
     "end_time": "2023-07-12T12:30:44.131278",
     "exception": false,
     "start_time": "2023-07-12T12:30:43.707113",
     "status": "completed"
    },
    "tags": []
   },
   "outputs": [
    {
     "data": {
      "image/png": "[encoded data removed]",
      "text/plain": [
       "<Figure size 1200x600 with 2 Axes>"
      ]
     },
     "metadata": {},
     "output_type": "display_data"
    }
   ],
   "source": [
    "# Create a new figure with subplots\n",
    "fig, (ax1, ax2) = plt.subplots(1, 2, figsize=(12, 6))\n",
    "\n",
    "# Scatter plot of actual versus predicted values on the first subplot\n",
    "ax1.scatter(y_test, prediction)\n",
    "ax1.set_title('Actual vs Prediction')\n",
    "ax1.set_xlabel('Actual', fontsize=15)\n",
    "ax1.set_ylabel('Predicted', fontsize=15)\n",
    "\n",
    "# Create another plot (e.g., histogram of residuals) on the second subplot\n",
    "residuals = y_test - prediction\n",
    "ax2.hist(residuals, bins=20, edgecolor='black')\n",
    "ax2.set_title('Histogram of Residuals')\n",
    "ax2.set_xlabel('Residuals', fontsize=15)\n",
    "ax2.set_ylabel('Frequency', fontsize=15)\n",
    "\n",
    "# Adjust layout for better readability\n",
    "plt.tight_layout()\n",
    "plt.show()"
   ]
  },
  {
   "cell_type": "markdown",
   "id": "7dbf69eb",
   "metadata": {},
   "source": [
    "# Conclusion\n",
    "\n",
    "In this tutorial, we performed an in-depth Exploratory Data Analysis (EDA) on a house price dataset and built a linear regression model to predict house prices. \n",
    "\n",
    "We loaded and preprocessed the data, explored correlations and relationships using visualizations, selected relevant features based on EDA insights, built and trained a linear regression model, and evaluated its performance.\n",
    "\n",
    "The linear regression model showed promise in predicting house prices based on the selected features. \n",
    "\n",
    "However, there is still room for improvement. \n",
    "\n",
    "Further steps could involve trying different regression algorithms, fine-tuning hyperparameters, and engineering new features for better performance. \n",
    "\n",
    "EDA and feature selection played a crucial role in understanding the data and building an initial predictive model."
   ]
  },
  {
   "cell_type": "markdown",
   "id": "d01d2313",
   "metadata": {},
   "source": [
    "Thank You!!!"
   ]
  }
 ],
 "metadata": {
  "kernelspec": {
   "display_name": "Python 3 (ipykernel)",
   "language": "python",
   "name": "python3"
  },
  "language_info": {
   "codemirror_mode": {
    "name": "ipython",
    "version": 3
   },
   "file_extension": ".py",
   "mimetype": "text/x-python",
   "name": "python",
   "nbconvert_exporter": "python",
   "pygments_lexer": "ipython3",
   "version": "3.10.9"
  },
  "papermill": {
   "default_parameters": {},
   "duration": 36.628707,
   "end_time": "2023-07-12T12:30:45.694608",
   "environment_variables": {},
   "exception": null,
   "input_path": "__notebook__.ipynb",
   "output_path": "__notebook__.ipynb",
   "parameters": {},
   "start_time": "2023-07-12T12:30:09.065901",
   "version": "2.4.0"
  }
 },
 "nbformat": 4,
 "nbformat_minor": 5
}
